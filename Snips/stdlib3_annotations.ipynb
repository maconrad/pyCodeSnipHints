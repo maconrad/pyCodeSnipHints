{
 "metadata": {
  "language_info": {
   "codemirror_mode": {
    "name": "ipython",
    "version": 3
   },
   "file_extension": ".py",
   "mimetype": "text/x-python",
   "name": "python",
   "nbconvert_exporter": "python",
   "pygments_lexer": "ipython3",
   "version": "3.9.0-final"
  },
  "orig_nbformat": 2,
  "kernelspec": {
   "name": "python3",
   "display_name": "Python 3"
  }
 },
 "nbformat": 4,
 "nbformat_minor": 2,
 "cells": [
  {
   "source": [
    "# Annotations & Typing & Dataclasses\n",
    "- Usecase\n",
    "    - Better documentation\n",
    "    - static type checking (e.g. with mypy)\n",
    "- Annotations part of stdlib & __future__ module at the moment\n",
    "    - further annotations will become part of stdlib in 3.10\n",
    "    - Full support, e.g. for function return type only with future import\n",
    "- Annotations\n",
    "    - Only for documentation / linting\n",
    "    - arguments / return types / variables (PEP526 Py3.6)\n",
    "    - Gradual typing: only functions with type annotations are checked!\n",
    "        - can introduce typing method by method, file by file, etc.\n",
    "- Versions\n",
    "    - Python3: Arguments e.g. def __init__(self, name: str) (before via comment)\n",
    "    - Python3.5: Type Hints part of stdlib e.g. from typing import SupportsFloat\n",
    "    - Python3.6: Instance variable annotations. e.g. name: str \n",
    "    - Python3.7:  __future__ annotations for postponing annotation evaluation (not at defintion time)\n",
    "    - Pyton3.10: __future__ annotations -> stdlib (e.g. return type)\n",
    "- Typing (PEP484)\n",
    "    - Do's:\n",
    "        - Annotate function parameters and return types\n",
    "        - Annotate variables only where needed (can mostly be infered = guess by type checker)\n",
    "        - Unions and Optionals only where needed\n",
    "        - Return types of Unions/Optionals should be ommited -> better to annote with overload\n",
    "        - Overload and Generics (e.g. TypeVar) teach type checker to be smarter\n",
    "    - Any = means Any type is okey\n",
    "    - Union = means one of the provided types (either A or B or ...)\n",
    "    - SupportsFloat = example for abstracted data types that can be casted to float\n",
    "    - List, Tuple etc. => for containers\n",
    "    - NewType: Define own type -> E.g. Price and Quantity both a decimal, but they are not the same\n",
    "        - If more complex new type with a lot of functions -> should create a new class\n",
    "        - But for example define a NewType of Price that actually nothing more than a float.\n",
    "        - Alias nams for data types + type checking with mypy\n",
    "    - TypeVar: \n",
    "        - Compared with Union here compiler knows return type (see below)\n",
    "        - Can be of type Any (unbounded) or limit the types (bounded)\n",
    "        - E.g. AnyStr = TypeVar('AnyStr', Text, bytes) = bounded \n",
    "        - E.g. T = TypeVar('T') -> often used for generics = unbounded\n",
    "        - Cannot be redefined\n",
    "    - Optional = for Optional args (special version of Union[Foo, None])\n",
    "    - Generic: Inherit from Generic keywork to make user defined class Generic!\n",
    "    - Nominal vs structural typing\n",
    "        - Structural typing: Describe capability not inheritence -> Interface c#\n",
    "        - Nominal typing: Describe inheritence (class hierarchy)\n",
    "- Can be nicely combined with Dataclasses or used separately\n",
    "- Dataclasses\n",
    "    - Generates __init__(), repr(), str() and other stuff based on Annotations\n",
    "- MyPy uses annotations to verify code (static code analysis)\n",
    "    - Run from cli with: mypy file.py or python -m mypy Snips/try.py \n",
    "- See:\n",
    "    - https://docs.python.org/3/library/typing.html\n",
    "    - https://www.youtube.com/watch?v=UQo-ebJk4a4\n",
    "    - https://www.youtube.com/watch?v=pMgmKJyWKn8 (Thanks to Carl Meyer)\n",
    "        - check out typing_extensions Pypi module (Video 18:00)\n",
    "    - Hatches\n",
    "        - Any\n",
    "        - cast to lie to type checker \n",
    "        - ignore e.g. stacked decorators\n",
    "        - stub (phi) for cython like c header files ()\n",
    "        \n"
   ],
   "cell_type": "markdown",
   "metadata": {}
  },
  {
   "cell_type": "code",
   "execution_count": 53,
   "metadata": {},
   "outputs": [
    {
     "output_type": "stream",
     "name": "stdout",
     "text": [
      "Peter\nPerson(name='Peter', age=52)\nPerson(name='Peter', age=52)\nMustang\n<__main__.Car object at 0x113a58b20>\n<__main__.Car object at 0x113a58b20>\n60\n61\n{'Peter': 'Ford'}\n{'Peter': 'Ford'}\n"
     ]
    }
   ],
   "source": [
    "from __future__ import annotations\n",
    "from dataclasses import dataclass\n",
    "from datetime import date\n",
    "from typing import Optional, Dict\n",
    "\n",
    "class Car:\n",
    "    # Argument annotation and return value in 3.x\n",
    "    def __init__(self, make: str, brand: str, year: int):\n",
    "        self.make = make\n",
    "        self.brand = brand\n",
    "        self.year = year\n",
    "\n",
    "    # typing module added in 3.5\n",
    "    def age(self, different_year: Optional[int] = None) -> int:\n",
    "        if different_year:\n",
    "            return date.today().year - different_year   \n",
    "        return date.today().year - self.year\n",
    "\n",
    "@dataclass\n",
    "class Person:\n",
    "    # Variable annotation in 3.6\n",
    "    name: str\n",
    "    age: int\n",
    "\n",
    "\n",
    "p1 = Person(name='Peter', age=52)\n",
    "c1 = Car(make='Mustang', brand='Ford', year=1960)\n",
    "print(p1.name)\n",
    "print(f'{p1}') #str function\n",
    "print(f'{p1!r}') #Repr function\n",
    "\n",
    "print(c1.make)\n",
    "print(f'{c1}') #str function\n",
    "print(f'{c1!r}') #Repr function\n",
    "print(c1.age())\n",
    "print(c1.age(different_year=1959))\n",
    "\n",
    "# Before py39 (typing module needed)\n",
    "driver: Dict[Person, Car] = {}\n",
    "driver[p1.name] = c1.brand\n",
    "print(driver)\n",
    "\n",
    "# py39+ (integrated, no need to import typing module)\n",
    "driver: dict[Person, Car] = {}\n",
    "driver[p1.name] = c1.brand\n",
    "print(driver)"
   ]
  },
  {
   "cell_type": "code",
   "execution_count": 31,
   "metadata": {},
   "outputs": [
    {
     "output_type": "execute_result",
     "data": {
      "text/plain": [
       "'Hello Test'"
      ]
     },
     "metadata": {},
     "execution_count": 31
    }
   ],
   "source": [
    "# Annotating Vars and return values\n",
    "def greeting(name: str) -> str:\n",
    "    return 'Hello ' + name\n",
    "\n",
    "greeting(name='Test')"
   ]
  },
  {
   "cell_type": "code",
   "execution_count": 41,
   "metadata": {},
   "outputs": [
    {
     "output_type": "stream",
     "name": "stdout",
     "text": [
      "[2.0, -8.4, 10.8]\nFalse\nTrue\n16\n6 6\n"
     ]
    }
   ],
   "source": [
    "# Typing \n",
    "from __future__ import annotations\n",
    "from typing import Union, Any, Type, SupportsFloat\n",
    "import numbers\n",
    "\n",
    "Vector = list[float]\n",
    "\n",
    "def scale(scalar: float, vector: Vector) -> Vector:\n",
    "    return [scalar * num for num in vector]\n",
    "\n",
    "new_vector = scale(2.0, [1.0, -4.2, 5.4])\n",
    "print(new_vector)\n",
    "\n",
    "# Two dimensional vector class\n",
    "class Vector:\n",
    "    def __init__(self, x: SupportsFloat = 0, y: SupportsFloat = 0):\n",
    "        self.x = x\n",
    "        self.y = y\n",
    "\n",
    "    # Multiplication of vector can be with a scaler value (float) or with another Vector\n",
    "    # Union: Return Vector or SupportsFloat\n",
    "    # Union: Pass in Vector or SupportsFloat\n",
    "    def __mul__(self, other: Union[Vector, SupportsFloat]) -> Union[Vector, SupportsFloat]:\n",
    "        if isinstance(other, Vector):\n",
    "            return self.x * other.x + self.y * other.y\n",
    "        elif isinstance(other, numbers.Real):\n",
    "            return Vector(self.x * other, self.y * other)\n",
    "        else:\n",
    "            raise TypeError('Must pass vector or int/float value')\n",
    "\n",
    "    def __eq__(self, other: Any):\n",
    "        return self.x == other.x and self.y == other.y\n",
    "\n",
    "scaler = 3\n",
    "v1 = Vector(x=2, y=2)\n",
    "v2 = Vector(x=4, y=4)\n",
    "v3 = Vector(x=2, y=2)\n",
    "\n",
    "print(v1 == v2)\n",
    "print(v1 == v3)\n",
    "\n",
    "v3 *= 3 \n",
    "print(v1*v2)\n",
    "print(v3.x, v3.y)   \n"
   ]
  },
  {
   "cell_type": "code",
   "execution_count": 62,
   "metadata": {},
   "outputs": [
    {
     "output_type": "execute_result",
     "data": {
      "text/plain": [
       "'x'"
      ]
     },
     "metadata": {},
     "execution_count": 62
    }
   ],
   "source": [
    "# Typing 2 - TypeVar, Generics\n",
    "# Type variables exist primarily for the benefit of static type checkers\n",
    "\n",
    "from typing import TypeVar, Generic\n",
    "\n",
    "T = TypeVar('T')\n",
    "\n",
    "class Stack(Generic[T]):\n",
    "    def __init__(self) -> None:\n",
    "        # Create an empty list with items of type T\n",
    "        self.items: List[T] = []\n",
    "\n",
    "    def push(self, item: T) -> None:\n",
    "        self.items.append(item)\n",
    "\n",
    "    def pop(self) -> T:\n",
    "        return self.items.pop()\n",
    "\n",
    "    def empty(self) -> bool:\n",
    "        return not self.items\n",
    "\n",
    "# Construct an empty Stack[int] instance\n",
    "stack = Stack[int]()\n",
    "stack.push(2)\n",
    "stack.pop()\n",
    "stack.push('x')        # Mypy Type error - remember: no runtime error\n",
    "stack.push(5)        \n",
    "stack.pop()\n",
    "stack.pop()"
   ]
  },
  {
   "cell_type": "code",
   "execution_count": 63,
   "metadata": {},
   "outputs": [],
   "source": [
    "T = TypeVar('T')  # Can be anything\n",
    "A = TypeVar('A', str, bytes)  # Must be str or bytes"
   ]
  },
  {
   "cell_type": "code",
   "execution_count": 64,
   "metadata": {},
   "outputs": [
    {
     "output_type": "stream",
     "name": "stdout",
     "text": [
      "(10, 10)\n"
     ]
    }
   ],
   "source": [
    "# Typing 3 - Type inference (guessing)\n",
    "# Do's:\n",
    "#   - Annotate Function Signatures\n",
    "#   - Annotate Variables (only if you have to -> type checker can mostly find out himself)\n",
    "\n",
    "from typing import Tuple\n",
    "\n",
    "class Photo:\n",
    "    def __init__(self, width: int, height: int) -> None:\n",
    "        self.width = width\n",
    "        self.height = height\n",
    "        # self.tags = []  # Empty Container type checker would fail\n",
    "        self.tags: List[str] = []   # Python 3.6\n",
    "\n",
    "    # type checker complains because it can infere that those are int\n",
    "    # def get_dimensions(self) -> Tuple[str, str]:    \n",
    "    def get_dimensions(self) -> Tuple[int, int]:\n",
    "        return (self.width, self.height)\n",
    "\n",
    "p1 = Photo(10, 10)\n",
    "print(p1.get_dimensions())\n"
   ]
  },
  {
   "cell_type": "code",
   "execution_count": 65,
   "metadata": {},
   "outputs": [],
   "source": [
    "# Typing 4 - Union / Optional / Overloads\n",
    "# Union\n",
    "# Optional\n",
    "#   - Omit Optional or Union as return type because type checker could fail\n",
    "# Overload\n",
    "#   - In case Union as return type would be used, better to overload\n",
    "from typing import Union, Optional, overload\n",
    "\n",
    "def get_foo_or_bar(id: int) -> Union[Foo, Bar]:\n",
    "    pass\n",
    "\n",
    "def get_foo_or_none(id: int) -> Union[Foo, None]:\n",
    "    pass\n",
    "\n",
    "# Special form of the one before\n",
    "# Equal to Union[Foo, None]\n",
    "def get_foo_or_none(id: int) -> Optional[Foo]:\n",
    "    pass\n",
    "\n",
    "# Better for the type checker\n",
    "# Not used at runtime if annotated with overload\n",
    "# Only for the type checker\n",
    "# -> Reason why pass is okey, no function body needed!\n",
    "# Without the overload methods, type checker would throw:\n",
    "#   error: NoneType has no attribute id when calling xy_foo.id\n",
    "@overload\n",
    "def get_foo(foo_id: None) -> None:\n",
    "    pass\n",
    "\n",
    "@overload\n",
    "def get_foo(foo_id: int) -> int:\n",
    "    pass\n",
    "\n",
    "def get_foo(foo_id: Optional[int]) -> Optional[Foo]:\n",
    "    if foo_id is None:\n",
    "        return None\n",
    "    return Foo(foo_id)"
   ]
  },
  {
   "cell_type": "code",
   "execution_count": 75,
   "metadata": {},
   "outputs": [
    {
     "output_type": "stream",
     "name": "stdout",
     "text": [
      "HeloWorld\nb'foobar'\n20\n"
     ]
    }
   ],
   "source": [
    "# Typing 5 - Generic functions\n",
    "# TypeVar = Placeholder for a type\n",
    "\n",
    "# Must be str or bytes -> Value restriction\n",
    "# Name = TypeVar('Name') -> Any type possible (unbounded)\n",
    "# Name = TypeVar('Name', type1, type2, type3) -> only of type1,2,3 (bounded)\n",
    "from typing import TypeVar\n",
    "\n",
    "AnyStr = TypeVar('AnyStr', str, bytes)\n",
    "\n",
    "def concat(a: AnyStr, b:AnyStr) -> AnyStr:\n",
    "    return a + b\n",
    "\n",
    "print(concat('Helo', 'World'))\n",
    "print(concat(b'foo', b'bar'))\n",
    "\n",
    "# Uncomment and run python -m mypy Snips/try.py   \n",
    "# Compiler knows return type is string\n",
    "# reveal_type(concat('foo', 'bar'))\n",
    "\n",
    "# Compiler knows return type is bytes\n",
    "# reveal_type(concat(b'foo', b'bar'))\n",
    "# -> big advantage over Union\n",
    "\n",
    "# print(concat('Helo', b'bytes'))     # Compiler complains and does not work at runtime!\n",
    "print(concat(10, 10))               # Works at runtime but type checker complains!\n",
    "\n"
   ]
  },
  {
   "cell_type": "code",
   "execution_count": 77,
   "metadata": {},
   "outputs": [],
   "source": [
    "# Typing 6 - NewType\n",
    "# Define own type to describe something\n",
    "# More sophisticated stuff should be done with a new class!\n",
    "from typing import NewType\n",
    "from decimal import *\n",
    "\n",
    "# Alias but not type checked\n",
    "# Price = Decimal\n",
    "\n",
    "# Alias + type checkign from mypy\n",
    "Name = NewType('Name', str)\n",
    "Price = NewType('Price', Decimal)\n",
    "Quantity = NewType('Quantity', Decimal)\n",
    "\n",
    "# p = Price(Decimal('1.4'))\n",
    "# reveal_type(price)    # module.Price\n",
    "\n",
    "# Old style\n",
    "# def place_order(price: Decimal, quantity: Decimal) -> None:\n",
    "#    ...\n",
    "\n",
    "# Cannot pass a Decimal -> mypy complains even though under the hood a Decimal\n",
    "# Cannot pass a Quantity -> mypy complains even though under the hood a Decimal\n",
    "def f(price: Price) -> None:\n",
    "    pass\n",
    "\n",
    "def place_order(price: Price, quantity: Quantity) -> None:\n",
    "    ..."
   ]
  },
  {
   "cell_type": "code",
   "execution_count": 85,
   "metadata": {},
   "outputs": [
    {
     "output_type": "stream",
     "name": "stdout",
     "text": [
      "Integer Logger: Set 5\nInteger Logger: Set 10\nInteger Logger: Set 7\nInteger Logger: Set 'halo'\n"
     ]
    }
   ],
   "source": [
    "# Typing 7 - Generic\n",
    "from typing import TypeVar, Generic\n",
    "\n",
    "# TypeVar can be of any type = unbounded = no restrictions\n",
    "# Otherwise TypeVar would need to be defined like TypeVar('T', float, int) for example\n",
    "T = TypeVar('T')\n",
    "\n",
    "# By inheriting from Generic own classes can be made generic\n",
    "class LoggedVar(Generic[T]):\n",
    "    def __init__(self, value: T, name: str) -> None:\n",
    "        self.name = name\n",
    "        self.value = value\n",
    "\n",
    "    def set(self, new: T) -> None:\n",
    "        self.log('Set ' + repr(self.value))\n",
    "        self.value = new\n",
    "\n",
    "    def get(self) -> T:\n",
    "        self.log('Get ' + repr(self.value))\n",
    "        return self.value\n",
    "\n",
    "    def log(self, message: str) -> None:\n",
    "        print('{}: {}'.format(self.name, message))\n",
    "\n",
    "int_logger = LoggedVar[int](value=5, name='Integer Logger')\n",
    "int_logger.set(new=10)\n",
    "int_logger.set(new=7)\n",
    "int_logger.set(new='halo')  #mypy complains\n",
    "int_logger.set(new=8)\n",
    "\n",
    "str_logger = LoggedVar[str](value='helo', name='Integer Logger')\n",
    "str_logger.set(new=10)  #mypy complains\n",
    "str_logger.set(new=7)   #mypy complains\n",
    "str_logger.set(new='halo')\n",
    "str_logger.set(new=8)   #mypy complains\n"
   ]
  },
  {
   "cell_type": "code",
   "execution_count": 87,
   "metadata": {},
   "outputs": [
    {
     "output_type": "execute_result",
     "data": {
      "text/plain": [
       "9"
      ]
     },
     "metadata": {},
     "execution_count": 87
    }
   ],
   "source": [
    "# Typing 8 - \"Full\" example\n",
    "# Define own Generic Series class\n",
    "# Define overloads because __getitem__ ([]-operator) can return a single value or a sequence of values\n",
    "#   ... (no method body needed) and @overload \n",
    "\n",
    "from typing import Generic, overload, Sequence, TypeVar, Union\n",
    "\n",
    "ValueType = TypeVar('ValueType')\n",
    "\n",
    "class Series(Generic[ValueType]):\n",
    "    def __init__(self, data: Sequence[ValueType]):\n",
    "        self._data = data\n",
    "\n",
    "    @overload\n",
    "    def __getitem__(self, index: int) -> ValueType:\n",
    "        ...\n",
    "    \n",
    "    @overload\n",
    "    def __getitem__(self, index: slice) -> Sequence[ValueType]:\n",
    "        ...\n",
    "\n",
    "    def __getitem__(self, index: Union[int, slice]) -> Union[ValueType, Sequence[ValueType]]:\n",
    "        return self._data[index]\n",
    "\n",
    "s = Series[int]([2, 4, 6, -1, 3])\n",
    "s[0] + 5\n",
    "sum(s[1:4])"
   ]
  },
  {
   "cell_type": "code",
   "execution_count": 90,
   "metadata": {},
   "outputs": [
    {
     "output_type": "stream",
     "name": "stdout",
     "text": [
      "Quack\n...Quark\n"
     ]
    }
   ],
   "source": [
    "# Typing 9 - Nominal Typing (as usual)\n",
    "class Animal:\n",
    "    pass\n",
    "\n",
    "class Duck(Animal):\n",
    "    def quack(self) -> None:\n",
    "        print(\"Quack\")\n",
    "\n",
    "# Later add a penguin...\n",
    "class Penguin(Animal):\n",
    "    def quack(self) -> None:\n",
    "        print(\"...Quark\")\n",
    "\n",
    "# Need to redefine make_it_quack to use Animal class\n",
    "#  but... not every animal will have this method...\n",
    "def make_it_quack(animal: Duck) -> None:\n",
    "    animal.quack()\n",
    "\n",
    "make_it_quack(Duck())\n",
    "make_it_quack(Penguin())    # Works at runtime, but type checker (mypy) complains"
   ]
  },
  {
   "cell_type": "code",
   "execution_count": 91,
   "metadata": {},
   "outputs": [
    {
     "output_type": "stream",
     "name": "stdout",
     "text": [
      "Quack\n...Quark\n"
     ]
    }
   ],
   "source": [
    "# Typing 10 - Structural Typing (describe capabilities, not ancestry/inheritence)\n",
    "# C# this would be called interface!\n",
    "# No Need to inherit from CanQuack!!!!\n",
    "\n",
    "from typing_extensions import Protocol\n",
    "\n",
    "class CanQuack(Protocol):\n",
    "    def quack(self) -> None:\n",
    "        ...\n",
    "\n",
    "class Animal:\n",
    "    pass\n",
    "\n",
    "class Duck(Animal):\n",
    "    def quack(self) -> None:\n",
    "        print(\"Quack\")\n",
    "\n",
    "# Later add a penguin...\n",
    "class Penguin(Animal):\n",
    "    def quack(self) -> None:\n",
    "        print(\"...Quark\")\n",
    "\n",
    "# make_it_quack uses CanQuack Interface\n",
    "def make_it_quack(animal: CanQuack) -> None:\n",
    "    animal.quack()\n",
    "\n",
    "make_it_quack(Duck())\n",
    "make_it_quack(Penguin())"
   ]
  },
  {
   "cell_type": "code",
   "execution_count": null,
   "metadata": {},
   "outputs": [],
   "source": []
  }
 ]
}