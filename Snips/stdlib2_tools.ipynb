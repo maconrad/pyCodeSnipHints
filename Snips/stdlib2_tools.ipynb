{
 "metadata": {
  "language_info": {
   "codemirror_mode": {
    "name": "ipython",
    "version": 3
   },
   "file_extension": ".py",
   "mimetype": "text/x-python",
   "name": "python",
   "nbconvert_exporter": "python",
   "pygments_lexer": "ipython3",
   "version": "3.9.0-final"
  },
  "orig_nbformat": 2,
  "kernelspec": {
   "name": "python3",
   "display_name": "Python 3"
  }
 },
 "nbformat": 4,
 "nbformat_minor": 2,
 "cells": [
  {
   "source": [
    "# Overview\n",
    "- Functools\n",
    "- itertools"
   ],
   "cell_type": "markdown",
   "metadata": {}
  },
  {
   "source": [
    "## Functools\n",
    "- functions that act on or return other functions\n",
    "    - reduce()\n",
    "    - generic function (multiple functions implementing the same operation for different types)\n",
    "        - PEP443\n",
    "        -  @singledispatchmethod for classes\n",
    "    - cache and lru_cache decorator for cpu-intense computation that do not change often (memoization)\n",
    "    - total_ordering - eq() and lt() or gt() etc. -> rest is computed\n",
    "    - wraps to create own decorator\n",
    "        - options to pass params to decorator function (not decorated function) (no example)\n",
    "        - option to stack params (no example)"
   ],
   "cell_type": "markdown",
   "metadata": {}
  },
  {
   "cell_type": "code",
   "execution_count": 10,
   "metadata": {},
   "outputs": [
    {
     "output_type": "stream",
     "name": "stdout",
     "text": [
      "15\n20\n"
     ]
    }
   ],
   "source": [
    "import functools\n",
    "lisi = [1,2,3,4,5]\n",
    "\n",
    "#def reduce(function, iterable, initializer=None):\n",
    "# calculates ((((1+2)+3)+4)+5). \n",
    "# The left argument, x, is the accumulated value and \n",
    "# the right argument, y, is the update value from the iterable\n",
    "print(functools.reduce(lambda x, y: x+y, lisi))\n",
    "print(functools.reduce(lambda x, y: x+y, lisi, 5))"
   ]
  },
  {
   "cell_type": "code",
   "execution_count": 17,
   "metadata": {},
   "outputs": [
    {
     "output_type": "stream",
     "name": "stdout",
     "text": [
      "Let me just say, hello\nStrength in numbers, eh? 10\nEnumerate this:\n0 1\n1 huhu\n2 20\n"
     ]
    }
   ],
   "source": [
    "from functools import singledispatch\n",
    "\n",
    "@singledispatch\n",
    "def fun(arg, verbose=False):\n",
    "    if verbose:\n",
    "        print(\"Let me just say,\", end=\" \")\n",
    "    print(arg)\n",
    "\n",
    "@fun.register\n",
    "def _(arg: int, verbose=False):\n",
    "   if verbose:\n",
    "       print(\"Strength in numbers, eh?\", end=\" \")\n",
    "   print(arg)\n",
    "\n",
    "@fun.register\n",
    "def _(arg: list, verbose=False):\n",
    "    if verbose:\n",
    "        print(\"Enumerate this:\")\n",
    "    for i, elem in enumerate(arg):\n",
    "        print(i, elem)\n",
    "\n",
    "fun('hello', verbose=True)\n",
    "fun(10, verbose=True)\n",
    "fun([1,'huhu', '20'],verbose=True)\n"
   ]
  },
  {
   "cell_type": "code",
   "execution_count": 3,
   "metadata": {},
   "outputs": [
    {
     "output_type": "stream",
     "name": "stdout",
     "text": [
      "10\nTime taken to count vowels without caching:  0.0004470348358154297\n10\nTime taken to count vowels with caching lru 1st run:  0.004292964935302734\n10\nTime taken to count vowels with caching lru 2st run:  0.00013303756713867188\n10\nTime taken to count vowels with caching 1st run:  0.00022602081298828125\n10\nTime taken to count vowels with caching 1st run:  0.000225067138671875\n"
     ]
    }
   ],
   "source": [
    "# Memoization\n",
    "# maxsize = num function calls\n",
    "# cache decorator is smaller and faster\n",
    "from functools import lru_cache, cache\n",
    "import time\n",
    "\n",
    "def count_vowels_no_cache(sentence: str):\n",
    "    sentence = sentence.casefold()\n",
    "    return sum(sentence.count(vowel) for vowel in 'aeiou')\n",
    "\n",
    "@lru_cache(maxsize=100)\n",
    "def count_vowels_lru(sentence: str):\n",
    "    sentence = sentence.casefold()\n",
    "    return sum(sentence.count(vowel) for vowel in 'aeiou')\n",
    "\n",
    "@cache\n",
    "def count_vowels_cache(sentence: str):\n",
    "    sentence = sentence.casefold()\n",
    "    return sum(sentence.count(vowel) for vowel in 'aeiou')\n",
    "\n",
    "begin = time.time()\n",
    "print(count_vowels_no_cache(\"This is a nice caching function!\"))\n",
    "end = time.time()\n",
    "print(\"Time taken to count vowels without caching: \", end-begin)\n",
    "\n",
    "begin = time.time()\n",
    "print(count_vowels_lru(\"This is a nice caching function!\"))\n",
    "end = time.time()\n",
    "print(\"Time taken to count vowels with caching lru 1st run: \", end-begin)\n",
    "\n",
    "begin = time.time()\n",
    "print(count_vowels_lru(\"This is a nice caching function!\"))\n",
    "end = time.time()\n",
    "print(\"Time taken to count vowels with caching lru 2st run: \", end-begin)\n",
    "\n",
    "begin = time.time()\n",
    "print(count_vowels_cache(\"This is a nice caching function!\"))\n",
    "end = time.time()\n",
    "print(\"Time taken to count vowels with caching 1st run: \", end-begin)\n",
    "\n",
    "begin = time.time()\n",
    "print(count_vowels_cache(\"This is a nice caching function!\"))\n",
    "end = time.time()\n",
    "print(\"Time taken to count vowels with caching 1st run: \", end-begin)"
   ]
  },
  {
   "cell_type": "code",
   "execution_count": 7,
   "metadata": {},
   "outputs": [
    {
     "output_type": "stream",
     "name": "stdout",
     "text": [
      "True\nTrue\nTrue\n"
     ]
    }
   ],
   "source": [
    "# Total Ordering\n",
    "# Performance impact! define all 6 manually if to slow\n",
    "# eq() and lt() defined manually\n",
    "# => python computes gt(), ge(), le(), noteq() \n",
    "from functools import total_ordering\n",
    "\n",
    "@total_ordering\n",
    "class Actor:\n",
    "    def __init__(self, lastname, firstname):\n",
    "        self.firstname = firstname\n",
    "        self.lastname = lastname\n",
    "    def __eq__(self, other):\n",
    "        return ((self.lastname.lower(), self.firstname.lower()) ==\n",
    "                (other.lastname.lower(), other.firstname.lower()))\n",
    "    def __lt__(self, other):\n",
    "        return ((self.lastname.lower(), self.firstname.lower()) <\n",
    "                (other.lastname.lower(), other.firstname.lower()))\n",
    "\n",
    "\n",
    "actor1 = Actor(\"Alfred\",\"James\")\n",
    "actor2 = Actor(\"Haddock\",\"Captain\")\n",
    "\n",
    "# Auto computed\n",
    "print(actor2 > actor1) \n",
    "print(actor2 >= actor1)\n",
    "print(actor2 != actor1)"
   ]
  },
  {
   "cell_type": "code",
   "execution_count": 31,
   "metadata": {},
   "outputs": [
    {
     "output_type": "stream",
     "name": "stdout",
     "text": [
      "Decorator timing begin...\nDecorator timing end...\nDecorator timing begin...\nDecorator timing end...\nWrapper timing begin...\nFunction fn_no_params took: 1.213999894389417e-06 s\nWrapper timing end...\ngugugag\nDecorator timing begin...\nDecorator timing end...\nWrapper timing begin...\nFunction fn_with_params took: 2.41899988395744e-06 s\nWrapper timing end...\n30\nWrapper timing begin...\nFunction fn_with_params_dec took: 1.725999936752487e-06 s\nWrapper timing end...\n30\n"
     ]
    }
   ],
   "source": [
    "# Wraps\n",
    "# 1. Decorator is called and returns wrapper\n",
    "# 2. Wrapper function is called, decorates + passes args to wrapped function\n",
    "# 3. Inner function is called and result returned\n",
    "from functools import wraps\n",
    "import time\n",
    "\n",
    "# timing = decorator\n",
    "def timing(fn):\n",
    "    print(\"Decorator timing begin...\")\n",
    "    @wraps(fn)\n",
    "    # args and kwargs passed on to decorated function \n",
    "    def wrapper(*args, **kwargs):\n",
    "        print(\"Wrapper timing begin...\")\n",
    "        start_time = time.perf_counter()\n",
    "        # inner function called\n",
    "        fn_result = fn(*args, **kwargs)\n",
    "        end_time = time.perf_counter()\n",
    "        time_duration = end_time - start_time\n",
    "        print(\"Function {} took: {} s\".format(fn.__name__, time_duration))\n",
    "        print(\"Wrapper timing end...\")\n",
    "        return fn_result\n",
    "    print(\"Decorator timing end...\")\n",
    "    return wrapper\n",
    "\n",
    "def fn_no_params():\n",
    "    return \"gugugag\"\n",
    "\n",
    "def fn_with_params(a, b, c=None):\n",
    "    return a + b if c else 0\n",
    "\n",
    "@timing\n",
    "def fn_with_params_dec(a, b, c=None):\n",
    "    return a + b if c else 0\n",
    "\n",
    "\n",
    "# No need for params, function could be passed directly\n",
    "# Wrapper object is returned\n",
    "decorated_fun = timing(fn_no_params)\n",
    "\n",
    "# Wrapper object is called now\n",
    "print(decorated_fun())\n",
    "\n",
    "# Works thanks to *args and **kwargs\n",
    "decorated_fun2 = timing(fn_with_params)\n",
    "print(decorated_fun2(a=10, b=20, c=True))\n",
    "\n",
    "# Decorator style\n",
    "print(fn_with_params_dec(a=10, b=20, c=True))\n",
    "\n"
   ]
  },
  {
   "cell_type": "code",
   "execution_count": 9,
   "metadata": {},
   "outputs": [],
   "source": []
  },
  {
   "cell_type": "code",
   "execution_count": null,
   "metadata": {},
   "outputs": [],
   "source": []
  }
 ]
}