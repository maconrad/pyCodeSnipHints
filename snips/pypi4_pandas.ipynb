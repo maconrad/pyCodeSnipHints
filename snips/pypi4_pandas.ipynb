{
 "metadata": {
  "language_info": {
   "codemirror_mode": {
    "name": "ipython",
    "version": 3
   },
   "file_extension": ".py",
   "mimetype": "text/x-python",
   "name": "python",
   "nbconvert_exporter": "python",
   "pygments_lexer": "ipython3",
   "version": "3.8.0-final"
  },
  "orig_nbformat": 2,
  "kernelspec": {
   "name": "python3",
   "display_name": "Python 3",
   "language": "python"
  }
 },
 "nbformat": 4,
 "nbformat_minor": 2,
 "cells": [
  {
   "cell_type": "code",
   "execution_count": 8,
   "metadata": {},
   "outputs": [
    {
     "output_type": "execute_result",
     "data": {
      "text/plain": [
       "  Filter_Name Scope_Name  Provides_a_service Query_Type Filter1_field  \\\n",
       "0    nc-test1        FBG                True     Simple            ip   \n",
       "1    nc-test2   INTERNET               False     Simple            ip   \n",
       "2    nc-test3        FBG               False     Simple            ip   \n",
       "3    nc-test4   INTERNET                True        and            ip   \n",
       "4    nc-test5        FBG               False       Qulu            ip   \n",
       "5    nc-test6   INTERNET               False         or            ip   \n",
       "\n",
       "  Filter1_type  Filter1_value Filter2_field Filter2_type Filter2_value  \\\n",
       "0           eq        1.1.1.1           NaN          NaN           NaN   \n",
       "1       subnet     1.1.1.0/24           NaN          NaN           NaN   \n",
       "2       subnet     1.1.2.0/24           NaN          NaN           NaN   \n",
       "3           eq        1.1.1.2            ip           eq       1.1.1.3   \n",
       "4       subnet  10.10.10.0/24           NaN          NaN           NaN   \n",
       "5       subnet     1.1.4.0/25            ip       subnet    1.1.5.0/25   \n",
       "\n",
       "   Filter3_field  Filter3_type  Filter3_value  \n",
       "0            NaN           NaN            NaN  \n",
       "1            NaN           NaN            NaN  \n",
       "2            NaN           NaN            NaN  \n",
       "3            NaN           NaN            NaN  \n",
       "4            NaN           NaN            NaN  \n",
       "5            NaN           NaN            NaN  "
      ],
      "text/html": "<div>\n<style scoped>\n    .dataframe tbody tr th:only-of-type {\n        vertical-align: middle;\n    }\n\n    .dataframe tbody tr th {\n        vertical-align: top;\n    }\n\n    .dataframe thead th {\n        text-align: right;\n    }\n</style>\n<table border=\"1\" class=\"dataframe\">\n  <thead>\n    <tr style=\"text-align: right;\">\n      <th></th>\n      <th>Filter_Name</th>\n      <th>Scope_Name</th>\n      <th>Provides_a_service</th>\n      <th>Query_Type</th>\n      <th>Filter1_field</th>\n      <th>Filter1_type</th>\n      <th>Filter1_value</th>\n      <th>Filter2_field</th>\n      <th>Filter2_type</th>\n      <th>Filter2_value</th>\n      <th>Filter3_field</th>\n      <th>Filter3_type</th>\n      <th>Filter3_value</th>\n    </tr>\n  </thead>\n  <tbody>\n    <tr>\n      <th>0</th>\n      <td>nc-test1</td>\n      <td>FBG</td>\n      <td>True</td>\n      <td>Simple</td>\n      <td>ip</td>\n      <td>eq</td>\n      <td>1.1.1.1</td>\n      <td>NaN</td>\n      <td>NaN</td>\n      <td>NaN</td>\n      <td>NaN</td>\n      <td>NaN</td>\n      <td>NaN</td>\n    </tr>\n    <tr>\n      <th>1</th>\n      <td>nc-test2</td>\n      <td>INTERNET</td>\n      <td>False</td>\n      <td>Simple</td>\n      <td>ip</td>\n      <td>subnet</td>\n      <td>1.1.1.0/24</td>\n      <td>NaN</td>\n      <td>NaN</td>\n      <td>NaN</td>\n      <td>NaN</td>\n      <td>NaN</td>\n      <td>NaN</td>\n    </tr>\n    <tr>\n      <th>2</th>\n      <td>nc-test3</td>\n      <td>FBG</td>\n      <td>False</td>\n      <td>Simple</td>\n      <td>ip</td>\n      <td>subnet</td>\n      <td>1.1.2.0/24</td>\n      <td>NaN</td>\n      <td>NaN</td>\n      <td>NaN</td>\n      <td>NaN</td>\n      <td>NaN</td>\n      <td>NaN</td>\n    </tr>\n    <tr>\n      <th>3</th>\n      <td>nc-test4</td>\n      <td>INTERNET</td>\n      <td>True</td>\n      <td>and</td>\n      <td>ip</td>\n      <td>eq</td>\n      <td>1.1.1.2</td>\n      <td>ip</td>\n      <td>eq</td>\n      <td>1.1.1.3</td>\n      <td>NaN</td>\n      <td>NaN</td>\n      <td>NaN</td>\n    </tr>\n    <tr>\n      <th>4</th>\n      <td>nc-test5</td>\n      <td>FBG</td>\n      <td>False</td>\n      <td>Qulu</td>\n      <td>ip</td>\n      <td>subnet</td>\n      <td>10.10.10.0/24</td>\n      <td>NaN</td>\n      <td>NaN</td>\n      <td>NaN</td>\n      <td>NaN</td>\n      <td>NaN</td>\n      <td>NaN</td>\n    </tr>\n    <tr>\n      <th>5</th>\n      <td>nc-test6</td>\n      <td>INTERNET</td>\n      <td>False</td>\n      <td>or</td>\n      <td>ip</td>\n      <td>subnet</td>\n      <td>1.1.4.0/25</td>\n      <td>ip</td>\n      <td>subnet</td>\n      <td>1.1.5.0/25</td>\n      <td>NaN</td>\n      <td>NaN</td>\n      <td>NaN</td>\n    </tr>\n  </tbody>\n</table>\n</div>"
     },
     "metadata": {},
     "execution_count": 8
    }
   ],
   "source": [
    "import pandas as pd\n",
    "df = pd.read_excel('C:\\\\NC\\\\Code\\\\Docu\\\\pyCodeSnipHints\\\\snips\\\\filters.xlsx')\n",
    "df"
   ]
  },
  {
   "cell_type": "code",
   "execution_count": 21,
   "metadata": {},
   "outputs": [
    {
     "output_type": "execute_result",
     "data": {
      "text/plain": [
       "Filter_Name             nc-test6\n",
       "Scope_Name              INTERNET\n",
       "Provides_a_service         False\n",
       "Query_Type                    or\n",
       "Filter1_field                 ip\n",
       "Filter1_type              subnet\n",
       "Filter1_value         1.1.4.0/25\n",
       "Filter2_field                 ip\n",
       "Filter2_type              subnet\n",
       "Filter2_value         1.1.5.0/25\n",
       "Filter3_field                NaN\n",
       "Filter3_type                 NaN\n",
       "Filter3_value                NaN\n",
       "Name: 5, dtype: object"
      ]
     },
     "metadata": {},
     "execution_count": 21
    }
   ],
   "source": [
    "# ffill = Fills missing values in dataframe (with last value)\n",
    "#  axis 1 = column\n",
    "# iloc = select row by position, e.g. iloc[5] = 5th row\n",
    "df_row5 = df.iloc[5]\n",
    "df_row5\n"
   ]
  },
  {
   "cell_type": "code",
   "execution_count": 22,
   "metadata": {},
   "outputs": [
    {
     "output_type": "execute_result",
     "data": {
      "text/plain": [
       "  Filter_Name Scope_Name  Provides_a_service Query_Type Filter1_field  \\\n",
       "0    nc-test1        FBG                True     Simple            ip   \n",
       "1    nc-test2   INTERNET               False     Simple            ip   \n",
       "\n",
       "  Filter1_type Filter1_value Filter2_field Filter2_type Filter2_value  \\\n",
       "0           eq       1.1.1.1           NaN          NaN           NaN   \n",
       "1       subnet    1.1.1.0/24           NaN          NaN           NaN   \n",
       "\n",
       "   Filter3_field  Filter3_type  Filter3_value  \n",
       "0            NaN           NaN            NaN  \n",
       "1            NaN           NaN            NaN  "
      ],
      "text/html": "<div>\n<style scoped>\n    .dataframe tbody tr th:only-of-type {\n        vertical-align: middle;\n    }\n\n    .dataframe tbody tr th {\n        vertical-align: top;\n    }\n\n    .dataframe thead th {\n        text-align: right;\n    }\n</style>\n<table border=\"1\" class=\"dataframe\">\n  <thead>\n    <tr style=\"text-align: right;\">\n      <th></th>\n      <th>Filter_Name</th>\n      <th>Scope_Name</th>\n      <th>Provides_a_service</th>\n      <th>Query_Type</th>\n      <th>Filter1_field</th>\n      <th>Filter1_type</th>\n      <th>Filter1_value</th>\n      <th>Filter2_field</th>\n      <th>Filter2_type</th>\n      <th>Filter2_value</th>\n      <th>Filter3_field</th>\n      <th>Filter3_type</th>\n      <th>Filter3_value</th>\n    </tr>\n  </thead>\n  <tbody>\n    <tr>\n      <th>0</th>\n      <td>nc-test1</td>\n      <td>FBG</td>\n      <td>True</td>\n      <td>Simple</td>\n      <td>ip</td>\n      <td>eq</td>\n      <td>1.1.1.1</td>\n      <td>NaN</td>\n      <td>NaN</td>\n      <td>NaN</td>\n      <td>NaN</td>\n      <td>NaN</td>\n      <td>NaN</td>\n    </tr>\n    <tr>\n      <th>1</th>\n      <td>nc-test2</td>\n      <td>INTERNET</td>\n      <td>False</td>\n      <td>Simple</td>\n      <td>ip</td>\n      <td>subnet</td>\n      <td>1.1.1.0/24</td>\n      <td>NaN</td>\n      <td>NaN</td>\n      <td>NaN</td>\n      <td>NaN</td>\n      <td>NaN</td>\n      <td>NaN</td>\n    </tr>\n  </tbody>\n</table>\n</div>"
     },
     "metadata": {},
     "execution_count": 22
    }
   ],
   "source": [
    "# List of integers, rows 0 and 1\n",
    "df.iloc[[0, 1]]"
   ]
  },
  {
   "cell_type": "code",
   "execution_count": 35,
   "metadata": {},
   "outputs": [
    {
     "output_type": "execute_result",
     "data": {
      "text/plain": [
       "  Filter_Name Scope_Name  Provides_a_service Query_Type Filter1_field  \\\n",
       "0    nc-test1        FBG                True     Simple            ip   \n",
       "1    nc-test2   INTERNET               False     Simple            ip   \n",
       "2    nc-test3        FBG               False     Simple            ip   \n",
       "3    nc-test4   INTERNET                True        and            ip   \n",
       "\n",
       "  Filter1_type Filter1_value Filter2_field Filter2_type Filter2_value  \\\n",
       "0           eq       1.1.1.1           NaN          NaN           NaN   \n",
       "1       subnet    1.1.1.0/24           NaN          NaN           NaN   \n",
       "2       subnet    1.1.2.0/24           NaN          NaN           NaN   \n",
       "3           eq       1.1.1.2            ip           eq       1.1.1.3   \n",
       "\n",
       "   Filter3_field  Filter3_type  Filter3_value  \n",
       "0            NaN           NaN            NaN  \n",
       "1            NaN           NaN            NaN  \n",
       "2            NaN           NaN            NaN  \n",
       "3            NaN           NaN            NaN  "
      ],
      "text/html": "<div>\n<style scoped>\n    .dataframe tbody tr th:only-of-type {\n        vertical-align: middle;\n    }\n\n    .dataframe tbody tr th {\n        vertical-align: top;\n    }\n\n    .dataframe thead th {\n        text-align: right;\n    }\n</style>\n<table border=\"1\" class=\"dataframe\">\n  <thead>\n    <tr style=\"text-align: right;\">\n      <th></th>\n      <th>Filter_Name</th>\n      <th>Scope_Name</th>\n      <th>Provides_a_service</th>\n      <th>Query_Type</th>\n      <th>Filter1_field</th>\n      <th>Filter1_type</th>\n      <th>Filter1_value</th>\n      <th>Filter2_field</th>\n      <th>Filter2_type</th>\n      <th>Filter2_value</th>\n      <th>Filter3_field</th>\n      <th>Filter3_type</th>\n      <th>Filter3_value</th>\n    </tr>\n  </thead>\n  <tbody>\n    <tr>\n      <th>0</th>\n      <td>nc-test1</td>\n      <td>FBG</td>\n      <td>True</td>\n      <td>Simple</td>\n      <td>ip</td>\n      <td>eq</td>\n      <td>1.1.1.1</td>\n      <td>NaN</td>\n      <td>NaN</td>\n      <td>NaN</td>\n      <td>NaN</td>\n      <td>NaN</td>\n      <td>NaN</td>\n    </tr>\n    <tr>\n      <th>1</th>\n      <td>nc-test2</td>\n      <td>INTERNET</td>\n      <td>False</td>\n      <td>Simple</td>\n      <td>ip</td>\n      <td>subnet</td>\n      <td>1.1.1.0/24</td>\n      <td>NaN</td>\n      <td>NaN</td>\n      <td>NaN</td>\n      <td>NaN</td>\n      <td>NaN</td>\n      <td>NaN</td>\n    </tr>\n    <tr>\n      <th>2</th>\n      <td>nc-test3</td>\n      <td>FBG</td>\n      <td>False</td>\n      <td>Simple</td>\n      <td>ip</td>\n      <td>subnet</td>\n      <td>1.1.2.0/24</td>\n      <td>NaN</td>\n      <td>NaN</td>\n      <td>NaN</td>\n      <td>NaN</td>\n      <td>NaN</td>\n      <td>NaN</td>\n    </tr>\n    <tr>\n      <th>3</th>\n      <td>nc-test4</td>\n      <td>INTERNET</td>\n      <td>True</td>\n      <td>and</td>\n      <td>ip</td>\n      <td>eq</td>\n      <td>1.1.1.2</td>\n      <td>ip</td>\n      <td>eq</td>\n      <td>1.1.1.3</td>\n      <td>NaN</td>\n      <td>NaN</td>\n      <td>NaN</td>\n    </tr>\n  </tbody>\n</table>\n</div>"
     },
     "metadata": {},
     "execution_count": 35
    }
   ],
   "source": [
    "# slice object, [:-2]= everything except last 2 items)\n",
    "df.iloc[:-2]"
   ]
  },
  {
   "cell_type": "code",
   "execution_count": 39,
   "metadata": {},
   "outputs": [
    {
     "output_type": "execute_result",
     "data": {
      "text/plain": [
       "'nc-test1'"
      ]
     },
     "metadata": {},
     "execution_count": 39
    }
   ],
   "source": [
    "# Row, Column\n",
    "df.iloc[0, 0]"
   ]
  },
  {
   "cell_type": "code",
   "execution_count": 42,
   "metadata": {},
   "outputs": [
    {
     "output_type": "execute_result",
     "data": {
      "text/plain": [
       "0   NaN\n",
       "1   NaN\n",
       "2   NaN\n",
       "3   NaN\n",
       "4   NaN\n",
       "5   NaN\n",
       "Name: Filter3_value, dtype: float64"
      ]
     },
     "metadata": {},
     "execution_count": 42
    }
   ],
   "source": [
    "# slice object for all rows, but only last column (-1) [:,-1]= everything from start:stop\n",
    "# note the comma\n",
    "df.iloc[:, -1]"
   ]
  },
  {
   "cell_type": "code",
   "execution_count": 27,
   "metadata": {},
   "outputs": [
    {
     "output_type": "execute_result",
     "data": {
      "text/plain": [
       "  Filter_Name Scope_Name Provides_a_service Query_Type Filter1_field  \\\n",
       "0    nc-test1        FBG               True     Simple            ip   \n",
       "1    nc-test2   INTERNET              False     Simple            ip   \n",
       "2    nc-test3        FBG              False     Simple            ip   \n",
       "3    nc-test4   INTERNET               True        and            ip   \n",
       "4    nc-test5        FBG              False       Qulu            ip   \n",
       "5    nc-test6   INTERNET              False         or            ip   \n",
       "\n",
       "  Filter1_type  Filter1_value  Filter2_field   Filter2_type  Filter2_value  \\\n",
       "0           eq        1.1.1.1        1.1.1.1        1.1.1.1        1.1.1.1   \n",
       "1       subnet     1.1.1.0/24     1.1.1.0/24     1.1.1.0/24     1.1.1.0/24   \n",
       "2       subnet     1.1.2.0/24     1.1.2.0/24     1.1.2.0/24     1.1.2.0/24   \n",
       "3           eq        1.1.1.2             ip             eq        1.1.1.3   \n",
       "4       subnet  10.10.10.0/24  10.10.10.0/24  10.10.10.0/24  10.10.10.0/24   \n",
       "5       subnet     1.1.4.0/25             ip         subnet     1.1.5.0/25   \n",
       "\n",
       "   Filter3_field   Filter3_type  Filter3_value  \n",
       "0        1.1.1.1        1.1.1.1        1.1.1.1  \n",
       "1     1.1.1.0/24     1.1.1.0/24     1.1.1.0/24  \n",
       "2     1.1.2.0/24     1.1.2.0/24     1.1.2.0/24  \n",
       "3        1.1.1.3        1.1.1.3        1.1.1.3  \n",
       "4  10.10.10.0/24  10.10.10.0/24  10.10.10.0/24  \n",
       "5     1.1.5.0/25     1.1.5.0/25     1.1.5.0/25  "
      ],
      "text/html": "<div>\n<style scoped>\n    .dataframe tbody tr th:only-of-type {\n        vertical-align: middle;\n    }\n\n    .dataframe tbody tr th {\n        vertical-align: top;\n    }\n\n    .dataframe thead th {\n        text-align: right;\n    }\n</style>\n<table border=\"1\" class=\"dataframe\">\n  <thead>\n    <tr style=\"text-align: right;\">\n      <th></th>\n      <th>Filter_Name</th>\n      <th>Scope_Name</th>\n      <th>Provides_a_service</th>\n      <th>Query_Type</th>\n      <th>Filter1_field</th>\n      <th>Filter1_type</th>\n      <th>Filter1_value</th>\n      <th>Filter2_field</th>\n      <th>Filter2_type</th>\n      <th>Filter2_value</th>\n      <th>Filter3_field</th>\n      <th>Filter3_type</th>\n      <th>Filter3_value</th>\n    </tr>\n  </thead>\n  <tbody>\n    <tr>\n      <th>0</th>\n      <td>nc-test1</td>\n      <td>FBG</td>\n      <td>True</td>\n      <td>Simple</td>\n      <td>ip</td>\n      <td>eq</td>\n      <td>1.1.1.1</td>\n      <td>1.1.1.1</td>\n      <td>1.1.1.1</td>\n      <td>1.1.1.1</td>\n      <td>1.1.1.1</td>\n      <td>1.1.1.1</td>\n      <td>1.1.1.1</td>\n    </tr>\n    <tr>\n      <th>1</th>\n      <td>nc-test2</td>\n      <td>INTERNET</td>\n      <td>False</td>\n      <td>Simple</td>\n      <td>ip</td>\n      <td>subnet</td>\n      <td>1.1.1.0/24</td>\n      <td>1.1.1.0/24</td>\n      <td>1.1.1.0/24</td>\n      <td>1.1.1.0/24</td>\n      <td>1.1.1.0/24</td>\n      <td>1.1.1.0/24</td>\n      <td>1.1.1.0/24</td>\n    </tr>\n    <tr>\n      <th>2</th>\n      <td>nc-test3</td>\n      <td>FBG</td>\n      <td>False</td>\n      <td>Simple</td>\n      <td>ip</td>\n      <td>subnet</td>\n      <td>1.1.2.0/24</td>\n      <td>1.1.2.0/24</td>\n      <td>1.1.2.0/24</td>\n      <td>1.1.2.0/24</td>\n      <td>1.1.2.0/24</td>\n      <td>1.1.2.0/24</td>\n      <td>1.1.2.0/24</td>\n    </tr>\n    <tr>\n      <th>3</th>\n      <td>nc-test4</td>\n      <td>INTERNET</td>\n      <td>True</td>\n      <td>and</td>\n      <td>ip</td>\n      <td>eq</td>\n      <td>1.1.1.2</td>\n      <td>ip</td>\n      <td>eq</td>\n      <td>1.1.1.3</td>\n      <td>1.1.1.3</td>\n      <td>1.1.1.3</td>\n      <td>1.1.1.3</td>\n    </tr>\n    <tr>\n      <th>4</th>\n      <td>nc-test5</td>\n      <td>FBG</td>\n      <td>False</td>\n      <td>Qulu</td>\n      <td>ip</td>\n      <td>subnet</td>\n      <td>10.10.10.0/24</td>\n      <td>10.10.10.0/24</td>\n      <td>10.10.10.0/24</td>\n      <td>10.10.10.0/24</td>\n      <td>10.10.10.0/24</td>\n      <td>10.10.10.0/24</td>\n      <td>10.10.10.0/24</td>\n    </tr>\n    <tr>\n      <th>5</th>\n      <td>nc-test6</td>\n      <td>INTERNET</td>\n      <td>False</td>\n      <td>or</td>\n      <td>ip</td>\n      <td>subnet</td>\n      <td>1.1.4.0/25</td>\n      <td>ip</td>\n      <td>subnet</td>\n      <td>1.1.5.0/25</td>\n      <td>1.1.5.0/25</td>\n      <td>1.1.5.0/25</td>\n      <td>1.1.5.0/25</td>\n    </tr>\n  </tbody>\n</table>\n</div>"
     },
     "metadata": {},
     "execution_count": 27
    }
   ],
   "source": [
    "# Fill all cells that were empty with last value from row\n",
    "#  E.g. row0, last value was at filter1 1.1.1.1 -> this is used until Filter3 value (last row)\n",
    "df_xy = df.ffill(axis=1)\n",
    "df_xy"
   ]
  },
  {
   "cell_type": "code",
   "execution_count": 48,
   "metadata": {},
   "outputs": [
    {
     "output_type": "execute_result",
     "data": {
      "text/plain": [
       "0          1.1.1.1\n",
       "1       1.1.1.0/24\n",
       "2       1.1.2.0/24\n",
       "3          1.1.1.3\n",
       "4    10.10.10.0/24\n",
       "5       1.1.5.0/25\n",
       "Name: Filter3_value, dtype: object"
      ]
     },
     "metadata": {},
     "execution_count": 48
    }
   ],
   "source": [
    "# Now combine those 2 things to get the last non NaN value per row\n",
    "df_last_non_nan_values = df.ffill(axis=1).iloc[:,-1]\n",
    "df_xy"
   ]
  },
  {
   "cell_type": "code",
   "execution_count": 49,
   "metadata": {},
   "outputs": [
    {
     "output_type": "execute_result",
     "data": {
      "text/plain": [
       "   Filter_Name  Scope_Name  Provides_a_service  Query_Type  Filter1_field  \\\n",
       "0        False       False               False       False          False   \n",
       "1        False       False               False       False          False   \n",
       "2        False       False               False       False          False   \n",
       "3        False       False               False       False          False   \n",
       "4        False       False               False       False          False   \n",
       "5        False       False               False       False          False   \n",
       "\n",
       "   Filter1_type  Filter1_value  Filter2_field  Filter2_type  Filter2_value  \\\n",
       "0         False          False           True          True           True   \n",
       "1         False          False           True          True           True   \n",
       "2         False          False           True          True           True   \n",
       "3         False          False          False         False          False   \n",
       "4         False          False           True          True           True   \n",
       "5         False          False          False         False          False   \n",
       "\n",
       "   Filter3_field  Filter3_type  Filter3_value  \n",
       "0           True          True           True  \n",
       "1           True          True           True  \n",
       "2           True          True           True  \n",
       "3           True          True           True  \n",
       "4           True          True           True  \n",
       "5           True          True           True  "
      ],
      "text/html": "<div>\n<style scoped>\n    .dataframe tbody tr th:only-of-type {\n        vertical-align: middle;\n    }\n\n    .dataframe tbody tr th {\n        vertical-align: top;\n    }\n\n    .dataframe thead th {\n        text-align: right;\n    }\n</style>\n<table border=\"1\" class=\"dataframe\">\n  <thead>\n    <tr style=\"text-align: right;\">\n      <th></th>\n      <th>Filter_Name</th>\n      <th>Scope_Name</th>\n      <th>Provides_a_service</th>\n      <th>Query_Type</th>\n      <th>Filter1_field</th>\n      <th>Filter1_type</th>\n      <th>Filter1_value</th>\n      <th>Filter2_field</th>\n      <th>Filter2_type</th>\n      <th>Filter2_value</th>\n      <th>Filter3_field</th>\n      <th>Filter3_type</th>\n      <th>Filter3_value</th>\n    </tr>\n  </thead>\n  <tbody>\n    <tr>\n      <th>0</th>\n      <td>False</td>\n      <td>False</td>\n      <td>False</td>\n      <td>False</td>\n      <td>False</td>\n      <td>False</td>\n      <td>False</td>\n      <td>True</td>\n      <td>True</td>\n      <td>True</td>\n      <td>True</td>\n      <td>True</td>\n      <td>True</td>\n    </tr>\n    <tr>\n      <th>1</th>\n      <td>False</td>\n      <td>False</td>\n      <td>False</td>\n      <td>False</td>\n      <td>False</td>\n      <td>False</td>\n      <td>False</td>\n      <td>True</td>\n      <td>True</td>\n      <td>True</td>\n      <td>True</td>\n      <td>True</td>\n      <td>True</td>\n    </tr>\n    <tr>\n      <th>2</th>\n      <td>False</td>\n      <td>False</td>\n      <td>False</td>\n      <td>False</td>\n      <td>False</td>\n      <td>False</td>\n      <td>False</td>\n      <td>True</td>\n      <td>True</td>\n      <td>True</td>\n      <td>True</td>\n      <td>True</td>\n      <td>True</td>\n    </tr>\n    <tr>\n      <th>3</th>\n      <td>False</td>\n      <td>False</td>\n      <td>False</td>\n      <td>False</td>\n      <td>False</td>\n      <td>False</td>\n      <td>False</td>\n      <td>False</td>\n      <td>False</td>\n      <td>False</td>\n      <td>True</td>\n      <td>True</td>\n      <td>True</td>\n    </tr>\n    <tr>\n      <th>4</th>\n      <td>False</td>\n      <td>False</td>\n      <td>False</td>\n      <td>False</td>\n      <td>False</td>\n      <td>False</td>\n      <td>False</td>\n      <td>True</td>\n      <td>True</td>\n      <td>True</td>\n      <td>True</td>\n      <td>True</td>\n      <td>True</td>\n    </tr>\n    <tr>\n      <th>5</th>\n      <td>False</td>\n      <td>False</td>\n      <td>False</td>\n      <td>False</td>\n      <td>False</td>\n      <td>False</td>\n      <td>False</td>\n      <td>False</td>\n      <td>False</td>\n      <td>False</td>\n      <td>True</td>\n      <td>True</td>\n      <td>True</td>\n    </tr>\n  </tbody>\n</table>\n</div>"
     },
     "metadata": {},
     "execution_count": 49
    }
   ],
   "source": [
    "# Mark empty cells as True and non-emtpy cells as False\n",
    "booldf = df.isnull()\n",
    "booldf"
   ]
  },
  {
   "cell_type": "code",
   "execution_count": 50,
   "metadata": {},
   "outputs": [
    {
     "output_type": "execute_result",
     "data": {
      "text/plain": [
       "0    Filter2_field\n",
       "1    Filter2_field\n",
       "2    Filter2_field\n",
       "3    Filter3_field\n",
       "4    Filter2_field\n",
       "5    Filter3_field\n",
       "dtype: object"
      ]
     },
     "metadata": {},
     "execution_count": 50
    }
   ],
   "source": [
    "# Find first True (=maximum here) index\n",
    "booldf.idxmax(axis=1)"
   ]
  },
  {
   "cell_type": "code",
   "execution_count": 51,
   "metadata": {},
   "outputs": [
    {
     "output_type": "execute_result",
     "data": {
      "text/plain": [
       "  Filter_Name Scope_Name  Provides_a_service Query_Type Filter1_field  \\\n",
       "0    nc-test1        FBG                True     Simple            ip   \n",
       "1    nc-test2   INTERNET               False     Simple            ip   \n",
       "2    nc-test3        FBG               False     Simple            ip   \n",
       "3    nc-test4   INTERNET                True        and            ip   \n",
       "4    nc-test5        FBG               False       Qulu            ip   \n",
       "\n",
       "  Filter1_type  Filter1_value Filter2_field Filter2_type Filter2_value  \\\n",
       "0           eq        1.1.1.1           NaN          NaN           NaN   \n",
       "1       subnet     1.1.1.0/24           NaN          NaN           NaN   \n",
       "2       subnet     1.1.2.0/24           NaN          NaN           NaN   \n",
       "3           eq        1.1.1.2            ip           eq       1.1.1.3   \n",
       "4       subnet  10.10.10.0/24           NaN          NaN           NaN   \n",
       "\n",
       "   Filter3_field  Filter3_type  Filter3_value  \n",
       "0            NaN           NaN            NaN  \n",
       "1            NaN           NaN            NaN  \n",
       "2            NaN           NaN            NaN  \n",
       "3            NaN           NaN            NaN  \n",
       "4            NaN           NaN            NaN  "
      ],
      "text/html": "<div>\n<style scoped>\n    .dataframe tbody tr th:only-of-type {\n        vertical-align: middle;\n    }\n\n    .dataframe tbody tr th {\n        vertical-align: top;\n    }\n\n    .dataframe thead th {\n        text-align: right;\n    }\n</style>\n<table border=\"1\" class=\"dataframe\">\n  <thead>\n    <tr style=\"text-align: right;\">\n      <th></th>\n      <th>Filter_Name</th>\n      <th>Scope_Name</th>\n      <th>Provides_a_service</th>\n      <th>Query_Type</th>\n      <th>Filter1_field</th>\n      <th>Filter1_type</th>\n      <th>Filter1_value</th>\n      <th>Filter2_field</th>\n      <th>Filter2_type</th>\n      <th>Filter2_value</th>\n      <th>Filter3_field</th>\n      <th>Filter3_type</th>\n      <th>Filter3_value</th>\n    </tr>\n  </thead>\n  <tbody>\n    <tr>\n      <th>0</th>\n      <td>nc-test1</td>\n      <td>FBG</td>\n      <td>True</td>\n      <td>Simple</td>\n      <td>ip</td>\n      <td>eq</td>\n      <td>1.1.1.1</td>\n      <td>NaN</td>\n      <td>NaN</td>\n      <td>NaN</td>\n      <td>NaN</td>\n      <td>NaN</td>\n      <td>NaN</td>\n    </tr>\n    <tr>\n      <th>1</th>\n      <td>nc-test2</td>\n      <td>INTERNET</td>\n      <td>False</td>\n      <td>Simple</td>\n      <td>ip</td>\n      <td>subnet</td>\n      <td>1.1.1.0/24</td>\n      <td>NaN</td>\n      <td>NaN</td>\n      <td>NaN</td>\n      <td>NaN</td>\n      <td>NaN</td>\n      <td>NaN</td>\n    </tr>\n    <tr>\n      <th>2</th>\n      <td>nc-test3</td>\n      <td>FBG</td>\n      <td>False</td>\n      <td>Simple</td>\n      <td>ip</td>\n      <td>subnet</td>\n      <td>1.1.2.0/24</td>\n      <td>NaN</td>\n      <td>NaN</td>\n      <td>NaN</td>\n      <td>NaN</td>\n      <td>NaN</td>\n      <td>NaN</td>\n    </tr>\n    <tr>\n      <th>3</th>\n      <td>nc-test4</td>\n      <td>INTERNET</td>\n      <td>True</td>\n      <td>and</td>\n      <td>ip</td>\n      <td>eq</td>\n      <td>1.1.1.2</td>\n      <td>ip</td>\n      <td>eq</td>\n      <td>1.1.1.3</td>\n      <td>NaN</td>\n      <td>NaN</td>\n      <td>NaN</td>\n    </tr>\n    <tr>\n      <th>4</th>\n      <td>nc-test5</td>\n      <td>FBG</td>\n      <td>False</td>\n      <td>Qulu</td>\n      <td>ip</td>\n      <td>subnet</td>\n      <td>10.10.10.0/24</td>\n      <td>NaN</td>\n      <td>NaN</td>\n      <td>NaN</td>\n      <td>NaN</td>\n      <td>NaN</td>\n      <td>NaN</td>\n    </tr>\n  </tbody>\n</table>\n</div>"
     },
     "metadata": {},
     "execution_count": 51
    }
   ],
   "source": [
    "# Print first x lines\n",
    "df.head()"
   ]
  },
  {
   "cell_type": "code",
   "execution_count": 62,
   "metadata": {},
   "outputs": [
    {
     "output_type": "stream",
     "name": "stdout",
     "text": [
      "3\n<zip object at 0x000002241577C048>\nip eq 1.1.1.1\n3\n<zip object at 0x00000224153C9948>\nip subnet 1.1.1.0/24\n3\n<zip object at 0x000002241577C508>\nip subnet 1.1.2.0/24\n6\n<zip object at 0x00000224157F7C48>\nip eq 1.1.1.2\nip eq 1.1.1.3\n3\n<zip object at 0x00000224157F7F48>\nip subnet 10.10.10.0/24\n6\n<zip object at 0x00000224157F7D08>\nip subnet 1.1.4.0/25\nip subnet 1.1.5.0/25\n"
     ]
    }
   ],
   "source": [
    "# Iterate over rows\n",
    "for index, row in df.iterrows():\n",
    "    scope_name = row['Scope_Name']\n",
    "    parent_name = row['Filter_Name']\n",
    "    # Drop NaN Values (dropna) and everything except filters\n",
    "    filtered_row = row.drop(labels=['Filter_Name','Scope_Name','Provides_a_service','Query_Type']).dropna()\n",
    "    # Filters always consist of field, type, value = 3 columns\n",
    "    print(filtered_row.count())\n",
    "    # Filters always consist of field, type, value = 3 columns\n",
    "    filter_cnt = int(filtered_row.count() / 3)\n",
    "    # Returns a zipper of all filters\n",
    "    item_zipper = filtered_row.iteritems()\n",
    "    print(item_zipper)\n",
    "    #for entry in item_zipper:\n",
    "    #    print(entry)\n",
    "\n",
    "    # Get next 3 item values (without heading) from zipper\n",
    "    for _ in range(filter_cnt):\n",
    "        field = next(item_zipper)[1]\n",
    "        t = next(item_zipper)[1]\n",
    "        val = next(item_zipper)[1]\n",
    "        print(field, t, val)"
   ]
  },
  {
   "cell_type": "code",
   "execution_count": null,
   "metadata": {},
   "outputs": [],
   "source": []
  }
 ]
}