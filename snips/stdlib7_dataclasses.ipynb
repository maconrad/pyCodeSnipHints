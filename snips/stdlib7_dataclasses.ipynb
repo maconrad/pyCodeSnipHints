{
 "metadata": {
  "language_info": {
   "codemirror_mode": {
    "name": "ipython",
    "version": 3
   },
   "file_extension": ".py",
   "mimetype": "text/x-python",
   "name": "python",
   "nbconvert_exporter": "python",
   "pygments_lexer": "ipython3",
   "version": "3.9.1-final"
  },
  "orig_nbformat": 2,
  "kernelspec": {
   "name": "python3",
   "display_name": "Python 3",
   "language": "python"
  }
 },
 "nbformat": 4,
 "nbformat_minor": 2,
 "cells": [
  {
   "source": [
    "# Before Dataclasses\n",
    "- tuple, dict, attrs, namedtuple\n",
    "- Remember: tuples are immutable\n",
    "- Dict does not allow access with .notation\n",
    "- attrs 3rd party library\n",
    "- See: https://realpython.com/python-data-classes/"
   ],
   "cell_type": "markdown",
   "metadata": {}
  },
  {
   "cell_type": "code",
   "execution_count": 5,
   "metadata": {},
   "outputs": [
    {
     "output_type": "stream",
     "name": "stdout",
     "text": [
      "Q\nHearts\n"
     ]
    }
   ],
   "source": [
    "queen_of_hearts_tuple = ('Q', 'Hearts')\n",
    "queen_of_hearts_dict = {'rank': 'Q', 'suit': 'Hearts'}\n",
    "\n",
    "print(queen_of_hearts_tuple[0])  # No named access, immutable\n",
    "print(queen_of_hearts_dict['suit'])  # Would be nicer with .suit"
   ]
  },
  {
   "cell_type": "code",
   "execution_count": 6,
   "metadata": {},
   "outputs": [
    {
     "output_type": "execute_result",
     "data": {
      "text/plain": [
       "'Q'"
      ]
     },
     "metadata": {},
     "execution_count": 6
    }
   ],
   "source": [
    "from collections import namedtuple\n",
    "\n",
    "NamedTupleCard = namedtuple('NamedTupleCard', ['rank', 'suit'])\n",
    "\n",
    "queen_of_hearts = NamedTupleCard('Q', 'Hearts')\n",
    "queen_of_hearts.rank"
   ]
  },
  {
   "cell_type": "code",
   "execution_count": 10,
   "metadata": {},
   "outputs": [
    {
     "output_type": "execute_result",
     "data": {
      "text/plain": [
       "AttrsCard(rank='Q', suit='Hearts')"
      ]
     },
     "metadata": {},
     "execution_count": 10
    }
   ],
   "source": [
    "import attr\n",
    "\n",
    "@attr.s\n",
    "class AttrsCard:\n",
    "    rank = attr.ib()\n",
    "    suit = attr.ib()\n",
    "\n",
    "card1 = AttrsCard(rank='Q', suit='Hearts')\n",
    "card1"
   ]
  },
  {
   "source": [
    "# Value of Dataclasses\n",
    "- Python 3.7\n",
    "- Default Values (default, default_factory)\n",
    "- Type annotations (Any, List)\n",
    "- field, fields\n",
    "- Inheritance (be careful about default values)\n",
    "- immutable with frozen (like namedtuple)\n",
    "- comparsion with order \n",
    "- Default implementation for repr, init, compare\n",
    "- make_dataclass to dynamically define dataclass\n",
    "- metadata\n",
    "- .Notation instead of dict access like ['text']\n",
    "- work with json (pip install dataclasses-json)"
   ],
   "cell_type": "markdown",
   "metadata": {}
  },
  {
   "cell_type": "code",
   "execution_count": 11,
   "metadata": {},
   "outputs": [
    {
     "output_type": "stream",
     "name": "stdout",
     "text": [
      "Position(name='Oslo', lon=10.8, lat=59.9)\n"
     ]
    },
    {
     "output_type": "execute_result",
     "data": {
      "text/plain": [
       "59.9"
      ]
     },
     "metadata": {},
     "execution_count": 11
    }
   ],
   "source": [
    "# Basics\n",
    "\n",
    "from dataclasses import dataclass\n",
    "\n",
    "@dataclass\n",
    "class Position:\n",
    "    name: str\n",
    "    lon: float\n",
    "    lat: float\n",
    "\n",
    "pos = Position('Oslo', 10.8, 59.9)\n",
    "print(pos)\n",
    "Position(name='Oslo', lon=10.8, lat=59.9)\n",
    "pos.lat"
   ]
  },
  {
   "cell_type": "code",
   "execution_count": 12,
   "metadata": {},
   "outputs": [],
   "source": [
    "# Dynamic creation of Dataclass\n",
    "\n",
    "from dataclasses import make_dataclass\n",
    "\n",
    "Position = make_dataclass('Position', ['name', 'lat', 'lon'])\n"
   ]
  },
  {
   "cell_type": "code",
   "execution_count": 13,
   "metadata": {},
   "outputs": [
    {
     "output_type": "execute_result",
     "data": {
      "text/plain": [
       "Position(name='Vancouver', lon=-123.1, lat=49.3)"
      ]
     },
     "metadata": {},
     "execution_count": 13
    }
   ],
   "source": [
    "# Default Values\n",
    "\n",
    "from dataclasses import dataclass\n",
    "\n",
    "@dataclass\n",
    "class Position:\n",
    "    name: str\n",
    "    lon: float = 0.0\n",
    "    lat: float = 0.0\n",
    "\n",
    "Position('Null Island')\n",
    "Position(name='Null Island', lon=0.0, lat=0.0)\n",
    "Position('Greenwich', lat=51.8)\n",
    "Position(name='Greenwich', lon=0.0, lat=51.8)\n",
    "Position('Vancouver', -123.1, 49.3)"
   ]
  },
  {
   "cell_type": "code",
   "execution_count": 14,
   "metadata": {},
   "outputs": [],
   "source": [
    "# Any Type\n",
    "\n",
    "from dataclasses import dataclass\n",
    "from typing import Any\n",
    "\n",
    "@dataclass\n",
    "class WithoutExplicitTypes:\n",
    "    name: Any\n",
    "    value: Any = 42"
   ]
  },
  {
   "cell_type": "code",
   "execution_count": 17,
   "metadata": {},
   "outputs": [
    {
     "output_type": "stream",
     "name": "stdout",
     "text": [
      "Deck(cards=[PlayingCard(rank='Q', suit='Hearts'), PlayingCard(rank='A', suit='Spades')])\n"
     ]
    }
   ],
   "source": [
    "# Typing List + Dataclasses\n",
    "\n",
    "from dataclasses import dataclass\n",
    "from typing import List\n",
    "\n",
    "@dataclass\n",
    "class PlayingCard:\n",
    "    rank: str\n",
    "    suit: str\n",
    "\n",
    "@dataclass\n",
    "class Deck:\n",
    "    cards: List[PlayingCard]\n",
    "\n",
    "queen_of_hearts = PlayingCard('Q', 'Hearts')\n",
    "ace_of_spades = PlayingCard('A', 'Spades')\n",
    "two_cards = Deck([queen_of_hearts, ace_of_spades])\n",
    "print(two_cards)"
   ]
  },
  {
   "cell_type": "code",
   "execution_count": 19,
   "metadata": {},
   "outputs": [
    {
     "output_type": "execute_result",
     "data": {
      "text/plain": [
       "Deck(cards=[PlayingCard(rank='2', suit='♣'), PlayingCard(rank='3', suit='♣'), PlayingCard(rank='4', suit='♣'), PlayingCard(rank='5', suit='♣'), PlayingCard(rank='6', suit='♣'), PlayingCard(rank='7', suit='♣'), PlayingCard(rank='8', suit='♣'), PlayingCard(rank='9', suit='♣'), PlayingCard(rank='10', suit='♣'), PlayingCard(rank='J', suit='♣'), PlayingCard(rank='Q', suit='♣'), PlayingCard(rank='K', suit='♣'), PlayingCard(rank='A', suit='♣'), PlayingCard(rank='2', suit='♢'), PlayingCard(rank='3', suit='♢'), PlayingCard(rank='4', suit='♢'), PlayingCard(rank='5', suit='♢'), PlayingCard(rank='6', suit='♢'), PlayingCard(rank='7', suit='♢'), PlayingCard(rank='8', suit='♢'), PlayingCard(rank='9', suit='♢'), PlayingCard(rank='10', suit='♢'), PlayingCard(rank='J', suit='♢'), PlayingCard(rank='Q', suit='♢'), PlayingCard(rank='K', suit='♢'), PlayingCard(rank='A', suit='♢'), PlayingCard(rank='2', suit='♡'), PlayingCard(rank='3', suit='♡'), PlayingCard(rank='4', suit='♡'), PlayingCard(rank='5', suit='♡'), PlayingCard(rank='6', suit='♡'), PlayingCard(rank='7', suit='♡'), PlayingCard(rank='8', suit='♡'), PlayingCard(rank='9', suit='♡'), PlayingCard(rank='10', suit='♡'), PlayingCard(rank='J', suit='♡'), PlayingCard(rank='Q', suit='♡'), PlayingCard(rank='K', suit='♡'), PlayingCard(rank='A', suit='♡'), PlayingCard(rank='2', suit='♠'), PlayingCard(rank='3', suit='♠'), PlayingCard(rank='4', suit='♠'), PlayingCard(rank='5', suit='♠'), PlayingCard(rank='6', suit='♠'), PlayingCard(rank='7', suit='♠'), PlayingCard(rank='8', suit='♠'), PlayingCard(rank='9', suit='♠'), PlayingCard(rank='10', suit='♠'), PlayingCard(rank='J', suit='♠'), PlayingCard(rank='Q', suit='♠'), PlayingCard(rank='K', suit='♠'), PlayingCard(rank='A', suit='♠')])"
      ]
     },
     "metadata": {},
     "execution_count": 19
    }
   ],
   "source": [
    "# List comprehension with multiple For-Loops\n",
    "# Factory method\n",
    "\n",
    "RANKS = '2 3 4 5 6 7 8 9 10 J Q K A'.split()\n",
    "SUITS = '♣ ♢ ♡ ♠'.split()\n",
    "\n",
    "def make_french_deck():\n",
    "    return [PlayingCard(r, s) for s in SUITS for r in RANKS]\n",
    "\n",
    "from dataclasses import dataclass, field\n",
    "from typing import List\n",
    "\n",
    "@dataclass\n",
    "class Deck:  \n",
    "    # cards: List[PlayingCard] = make_french_deck() --> # Will NOT work, every instance of deck will refer to the same list!!!\n",
    "    cards: List[PlayingCard] = field(default_factory=make_french_deck)\n",
    "\n",
    "Deck()\n"
   ]
  },
  {
   "cell_type": "code",
   "execution_count": 22,
   "metadata": {},
   "outputs": [
    {
     "output_type": "execute_result",
     "data": {
      "text/plain": [
       "'degrees'"
      ]
     },
     "metadata": {},
     "execution_count": 22
    }
   ],
   "source": [
    "# Metadata\n",
    "\n",
    "from dataclasses import dataclass, field, fields\n",
    "\n",
    "@dataclass\n",
    "class Position:\n",
    "    name: str\n",
    "    lon: float = field(default=0.0, metadata={'unit': 'degrees'})\n",
    "    lat: float = field(default=0.0, metadata={'unit': 'degrees'})\n",
    "\n",
    "fields(Position)\n",
    "lat_unit = fields(Position)[2].metadata['unit']\n",
    "lat_unit"
   ]
  },
  {
   "cell_type": "code",
   "execution_count": 30,
   "metadata": {},
   "outputs": [
    {
     "output_type": "execute_result",
     "data": {
      "text/plain": [
       "'Deck(♣2, ♣3, ♣4, ♣5, ♣6, ♣7, ♣8, ♣9, ♣10, ♣J, ♣Q, ♣K, ♣A, ♢2, ♢3, ♢4, ♢5, ♢6, ♢7, ♢8, ♢9, ♢10, ♢J, ♢Q, ♢K, ♢A, ♡2, ♡3, ♡4, ♡5, ♡6, ♡7, ♡8, ♡9, ♡10, ♡J, ♡Q, ♡K, ♡A, ♠2, ♠3, ♠4, ♠5, ♠6, ♠7, ♠8, ♠9, ♠10, ♠J, ♠Q, ♠K, ♠A)'"
      ]
     },
     "metadata": {},
     "execution_count": 30
    }
   ],
   "source": [
    "# Using !s in F-String for string representation of another object\n",
    "\n",
    "from typing import List\n",
    "\n",
    "@dataclass\n",
    "class PlayingCard:\n",
    "    rank: str\n",
    "    suit: str\n",
    "\n",
    "    def __str__(self):\n",
    "        return f'{self.suit}{self.rank}'\n",
    "\n",
    "@dataclass\n",
    "class Deck:\n",
    "    cards: List[PlayingCard] = field(default_factory=make_french_deck)\n",
    "\n",
    "    def __repr__(self):\n",
    "        cards = ', '.join(f'{c!s}' for c in self.cards)\n",
    "        return f'{self.__class__.__name__}({cards})'\n",
    "\n",
    "Deck().__repr__()"
   ]
  },
  {
   "cell_type": "code",
   "execution_count": 31,
   "metadata": {},
   "outputs": [
    {
     "output_type": "execute_result",
     "data": {
      "text/plain": [
       "True"
      ]
     },
     "metadata": {},
     "execution_count": 31
    }
   ],
   "source": [
    "# Order to implement comparsion <, > etc.\n",
    "# .sort_index is added as the first field of the class. That way, the comparison is first done using .sort_index and \n",
    "#   only if there are ties are the other fields used\n",
    "# __post_init__() to calculated value from the other fields .rank and .suit automatically\n",
    "from dataclasses import dataclass\n",
    "\n",
    "@dataclass(order=True)\n",
    "class PlayingCard:\n",
    "    sort_index: int = field(init=False, repr=False)\n",
    "    rank: str\n",
    "    suit: str\n",
    "\n",
    "    def __post_init__(self):\n",
    "        self.sort_index = (RANKS.index(self.rank) * len(SUITS)\n",
    "                           + SUITS.index(self.suit))\n",
    "\n",
    "    def __str__(self):\n",
    "        return f'{self.suit}{self.rank}'\n",
    "\n",
    "queen_of_hearts = PlayingCard('Q', '♡')\n",
    "ace_of_spades = PlayingCard('A', '♠')\n",
    "ace_of_spades > queen_of_hearts"
   ]
  },
  {
   "cell_type": "code",
   "execution_count": 32,
   "metadata": {},
   "outputs": [
    {
     "output_type": "execute_result",
     "data": {
      "text/plain": [
       "Deck(♣2, ♢2, ♡2, ♠2, ♣3, ♢3, ♡3, ♠3, ♣4, ♢4, ♡4, ♠4, ♣5, ♢5, ♡5, ♠5, ♣6, ♢6, ♡6, ♠6, ♣7, ♢7, ♡7, ♠7, ♣8, ♢8, ♡8, ♠8, ♣9, ♢9, ♡9, ♠9, ♣10, ♢10, ♡10, ♠10, ♣J, ♢J, ♡J, ♠J, ♣Q, ♢Q, ♡Q, ♠Q, ♣K, ♢K, ♡K, ♠K, ♣A, ♢A, ♡A, ♠A)"
      ]
     },
     "metadata": {},
     "execution_count": 32
    }
   ],
   "source": [
    "# values can then be sorted\n",
    "Deck(sorted(make_french_deck()))"
   ]
  },
  {
   "cell_type": "code",
   "execution_count": 33,
   "metadata": {},
   "outputs": [
    {
     "output_type": "execute_result",
     "data": {
      "text/plain": [
       "Deck(♢4, ♡4, ♠9, ♡7, ♠2, ♠6, ♣7, ♢2, ♡K, ♣9)"
      ]
     },
     "metadata": {},
     "execution_count": 33
    }
   ],
   "source": [
    "from random import sample\n",
    "Deck(sample(make_french_deck(), k=10))"
   ]
  },
  {
   "cell_type": "code",
   "execution_count": null,
   "metadata": {},
   "outputs": [],
   "source": [
    "# immutable\n",
    "\n",
    "from dataclasses import dataclass\n",
    "\n",
    "@dataclass(frozen=True)\n",
    "class Position:\n",
    "    name: str\n",
    "    lon: float = 0.0\n",
    "    lat: float = 0.0"
   ]
  },
  {
   "cell_type": "code",
   "execution_count": 34,
   "metadata": {},
   "outputs": [
    {
     "output_type": "execute_result",
     "data": {
      "text/plain": [
       "Capital(name='Madrid', lon=0.0, lat=40.0, country='Spain')"
      ]
     },
     "metadata": {},
     "execution_count": 34
    }
   ],
   "source": [
    "# Inheritance\n",
    "#  Be careful about default attributes\n",
    "\n",
    "from dataclasses import dataclass\n",
    "\n",
    "@dataclass\n",
    "class Position:\n",
    "    name: str\n",
    "    lon: float = 0.0\n",
    "    lat: float = 0.0\n",
    "\n",
    "@dataclass\n",
    "class Capital(Position):\n",
    "    #country: str  # Does NOT work\n",
    "    # as this is not allowed in python\n",
    "    # def __init__(name: str, lon: float = 0.0, lat: float = 0.0, country: str):\n",
    "    country: str = 'Unknown'\n",
    "    lat: float = 40.0\n",
    "\n",
    "Capital('Madrid', country='Spain')"
   ]
  },
  {
   "cell_type": "code",
   "execution_count": null,
   "metadata": {},
   "outputs": [],
   "source": []
  }
 ]
}