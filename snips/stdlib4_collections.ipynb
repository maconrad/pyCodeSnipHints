{
 "metadata": {
  "language_info": {
   "codemirror_mode": {
    "name": "ipython",
    "version": 3
   },
   "file_extension": ".py",
   "mimetype": "text/x-python",
   "name": "python",
   "nbconvert_exporter": "python",
   "pygments_lexer": "ipython3",
   "version": "3.9.0-final"
  },
  "orig_nbformat": 2,
  "kernelspec": {
   "name": "python3",
   "display_name": "Python 3"
  }
 },
 "nbformat": 4,
 "nbformat_minor": 2,
 "cells": [
  {
   "source": [
    "# Collection\n",
    "- Counter\n",
    "    - Counts items from iterable (hashable objects)\n",
    "    - items stored as key, count stored as value\n",
    "- namedTuple \n",
    "    - Leightweight object type similar to struct from C\n",
    "- OrderedDict\n",
    "    - Remembers order of insertion\n",
    "    - py37 builtin dict class remembers order\n",
    "- defaultDict\n",
    "    - Default Value if the key has not been set\n",
    "    - Normal dict raises a KeyError exception\n",
    "    - needs a function() or more general a callable as an argument\n",
    "    - most often used with list or dict\n",
    "        - list: to blindly append() on any key whether or not it exists\n",
    "        - dict: to blindly update() a dict whether or not it exists\n",
    "- deque\n",
    "    - Double ended queue\n",
    "    - efficient at adding/removing\n",
    "- ChainMap\n",
    "    - Chain multiple dicts and access/treat as single unit\n",
    "    - If key appears multiple times, chainMap takes value from key of 1st dictionary\n",
    "        - can be used to update/merge a value if in reverse order, see below\n",
    "    - Updates are stored in 1st dictionry!\n",
    "    - Use Cases:\n",
    "        - store default values and override when required\n",
    "        - store config with default values\n",
    "- UserDict\n"
   ],
   "cell_type": "markdown",
   "metadata": {}
  },
  {
   "cell_type": "code",
   "execution_count": 8,
   "metadata": {},
   "outputs": [
    {
     "output_type": "stream",
     "name": "stdout",
     "text": [
      "Counter({'a': 5, 'b': 4, 'c': 3})\ndict_items([('a', 5), ('b', 4), ('c', 3)])\ndict_keys(['a', 'b', 'c'])\ndict_values([5, 4, 3])\n[('a', 5), ('b', 4)]\na\n['a', 'a', 'a', 'a', 'a', 'b', 'b', 'b', 'b', 'c', 'c', 'c']\n"
     ]
    }
   ],
   "source": [
    "# Counter\n",
    "from collections import Counter\n",
    "\n",
    "a = 'aaaaabbbbccc'\n",
    "my_counter = Counter(a)\n",
    "print(my_counter)\n",
    "print(my_counter.items())\n",
    "print(my_counter.keys())\n",
    "print(my_counter.values())\n",
    "print(my_counter.most_common(2))\n",
    "print(my_counter.most_common(1)[0][0])\n",
    "print(list(my_counter.elements()))"
   ]
  },
  {
   "cell_type": "code",
   "execution_count": 9,
   "metadata": {},
   "outputs": [
    {
     "output_type": "stream",
     "name": "stdout",
     "text": [
      "1 -4\n"
     ]
    }
   ],
   "source": [
    "from collections import namedtuple\n",
    "\n",
    "# \"Class\" Point with x and why\n",
    "Point = namedtuple('Point', 'x, y')\n",
    "pt = Point(1, -4)\n",
    "print(pt.x, pt.y)"
   ]
  },
  {
   "cell_type": "code",
   "execution_count": 11,
   "metadata": {},
   "outputs": [
    {
     "output_type": "stream",
     "name": "stdout",
     "text": [
      "OrderedDict([('d', 1), ('b', 3), ('c', 4), ('a', 5)])\n"
     ]
    }
   ],
   "source": [
    "from collections import OrderedDict\n",
    "\n",
    "# before py37\n",
    "ordered_dict = OrderedDict()\n",
    "ordered_dict['d'] = 1\n",
    "ordered_dict['b'] = 3\n",
    "ordered_dict['c'] = 4\n",
    "ordered_dict['a'] = 5\n",
    "print(ordered_dict)"
   ]
  },
  {
   "cell_type": "code",
   "execution_count": 36,
   "metadata": {},
   "outputs": [
    {
     "output_type": "stream",
     "name": "stdout",
     "text": [
      "0\n0\n100\ndefaultdict(<class 'list'>, {'1stkey': 12, 'somekey': ['Hello', 'World']})\ndefaultdict(<class 'dict'>, {'newkey': {'AKey': 'hello2', 'BKey': 'World'}})\n"
     ]
    }
   ],
   "source": [
    "from collections import defaultdict\n",
    "\n",
    "# Default Value of class\n",
    "d = defaultdict(int)\n",
    "d['a'] = 1\n",
    "d['b'] = 2\n",
    "\n",
    "print(d['d'])\n",
    "print(int()) # Callable() __call__()\n",
    "\n",
    "a_dct = defaultdict(lambda: 100)\n",
    "value = a_dct['nonexistent']\n",
    "print(value)\n",
    "\n",
    "# defaultDict with list\n",
    "# Default Value for something that has not been created will be list!\n",
    "# Don't have to check if the value of this item is list\n",
    "l_dict = defaultdict(list)\n",
    "l_dict\n",
    "l_dict['1stkey'] = 12\n",
    "l_dict['somekey'].append(\"Hello\")\n",
    "l_dict['somekey'].append(\"World\")\n",
    "print(l_dict)\n",
    "\n",
    "# defaultDict with dict\n",
    "d_dict = defaultdict(dict)\n",
    "d_dict['newkey'].update({\"AKey\": \"hello\"})\n",
    "d_dict['newkey'].update({\"BKey\": \"World\"})\n",
    "d_dict['newkey'].update({\"AKey\": \"hello2\"})\n",
    "print(d_dict)"
   ]
  },
  {
   "cell_type": "code",
   "execution_count": 26,
   "metadata": {},
   "outputs": [
    {
     "output_type": "stream",
     "name": "stdout",
     "text": [
      "deque([3, 1, 2])\n2\n3\ndeque([1, 4, 5, 6])\ndeque([9, 8, 7, 1, 4, 5, 6])\ndeque([6, 9, 8, 7, 1, 4, 5])\ndeque([9, 8, 7, 1, 4, 5, 6])\n"
     ]
    }
   ],
   "source": [
    "from collections import deque\n",
    "\n",
    "d = deque()\n",
    "d.append(1)\n",
    "d.append(2)\n",
    "d.appendleft(3)\n",
    "\n",
    "print(d)\n",
    "print(d.pop())\n",
    "print(d.popleft())\n",
    "\n",
    "d.extend([4, 5, 6])\n",
    "print(d)\n",
    "\n",
    "d.extendleft([7, 8, 9])\n",
    "print(d)\n",
    "\n",
    "d.rotate(1)\n",
    "print(d)\n",
    "\n",
    "d.rotate(-1)\n",
    "print(d)"
   ]
  },
  {
   "cell_type": "code",
   "execution_count": 52,
   "metadata": {},
   "outputs": [
    {
     "output_type": "stream",
     "name": "stdout",
     "text": [
      "ChainMap({'a': 4, 'b': 2}, {'c': 1, 'a': 2})\n[{'a': 4, 'b': 2}, {'c': 1, 'a': 2}]\n['c', 'a', 'b']\n[1, 4, 2]\nChainMap({'d': 7}, {'a': 4, 'b': 2}, {'c': 1, 'a': 2})\n[{'d': 7}, {'a': 4, 'b': 2}, {'c': 1, 'a': 2}]\nChainMap({'d': 7, 'c': 5}, {'a': 4, 'b': 2}, {'c': 1, 'a': 2})\nChainMap({'name': 'sam'}, {'job': 'Engineer', 'salary': 10000})\n10000\nChainMap({'name': 'sam', 'salary': 20000}, {'job': 'Engineer', 'salary': 10000})\n20000\nChainMap({'name': 'sam'}, {'job': 'Engineer', 'salary': 10000})\n10000\n"
     ]
    }
   ],
   "source": [
    "# ChainMap\n",
    "from collections import ChainMap\n",
    "\n",
    "\n",
    "original_dict = {'c': 1, 'a': 2}\n",
    "update_dict = {'a': 4, 'b': 2}\n",
    "\n",
    "chain = ChainMap(update_dict, original_dict)\n",
    "print(chain)\n",
    "print(chain.maps)\n",
    "print(list(chain.keys()))\n",
    "print(list(chain.values()))\n",
    "\n",
    "d3 = {'d': 7}\n",
    "new_chain = chain.new_child(d3)\n",
    "print(new_chain)\n",
    "print(new_chain.maps)\n",
    "\n",
    "# Updates are stored/updated in 1st dictionary!\n",
    "# Not in later ones if multiple exist!\n",
    "new_chain['c'] = 5\n",
    "print(new_chain)\n",
    "\n",
    "# Important for defaults\n",
    "data = {'name': 'sam'}\n",
    "defaults = {'job': 'Engineer', 'salary': 10000}\n",
    "\n",
    "sam_dict = ChainMap(data, defaults)\n",
    "print(sam_dict)\n",
    "print(sam_dict['salary'])\n",
    "sam_dict['salary'] = 20000\n",
    "print(sam_dict)\n",
    "print(sam_dict['salary'])\n",
    "del sam_dict['salary']\n",
    "print(sam_dict)\n",
    "print(sam_dict['salary'])"
   ]
  },
  {
   "cell_type": "code",
   "execution_count": null,
   "metadata": {},
   "outputs": [],
   "source": []
  }
 ]
}
