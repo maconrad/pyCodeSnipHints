{
 "metadata": {
  "language_info": {
   "codemirror_mode": {
    "name": "ipython",
    "version": 3
   },
   "file_extension": ".py",
   "mimetype": "text/x-python",
   "name": "python",
   "nbconvert_exporter": "python",
   "pygments_lexer": "ipython3",
   "version": "3.9.0-final"
  },
  "orig_nbformat": 2,
  "kernelspec": {
   "name": "python3",
   "display_name": "Python 3"
  }
 },
 "nbformat": 4,
 "nbformat_minor": 2,
 "cells": [
  {
   "source": [
    "# XML\n",
    "- SAX = Simple Api for XML\n",
    "    - never loads whole file into memory -> useful with very large xml files\n",
    "    - can only read, not change\n",
    "- DOM = Document Object Model\n",
    "    - Change in xml document -> DOM needed\n",
    "    - Works with DOM Tree -> Hierarchical structure of document as Tree\n",
    "        - Element is part of the dom tree\n",
    "- Minidom\n",
    "    - Minimal implementation of the DOM module\n",
    "    - DOM \n",
    "- BeautifulSoup\n",
    "    - Scrapping library\n",
    "    - find(), find_all(), parent, children, previous_siblings, next_siblings\n",
    "- xml.etree\n",
    "    - tag / attribute / text\n",
    "    - set() / iter() / write()\n",
    "    - SubElement() to create new elements\n",
    "- xmltodict\n",
    "    - parse() and unparse()\n",
    "    "
   ],
   "cell_type": "markdown",
   "metadata": {}
  },
  {
   "cell_type": "code",
   "execution_count": 6,
   "metadata": {},
   "outputs": [
    {
     "output_type": "stream",
     "name": "stdout",
     "text": [
      "----BOOK----\nID is bk101\nTitle: XML Developer's Guide\nPrice: 44.95\n----BOOK----\nID is bk102\nTitle: Midnight Rain\nPrice: 5.95\n----BOOK----\nID is bk103\nTitle: Maeve Ascendant\nPrice: 5.95\n----BOOK----\nID is bk104\nTitle: Oberon's Legacy\nPrice: 5.95\n----BOOK----\nID is bk105\nTitle: The Sundered Grail\nPrice: 5.95\n----BOOK----\nID is bk106\nTitle: Lover Birds\nPrice: 4.95\n----BOOK----\nID is bk107\nTitle: Splish Splash\nPrice: 4.95\n----BOOK----\nID is bk108\nTitle: Creepy Crawlies\nPrice: 4.95\n----BOOK----\nID is bk109\nTitle: Paradox Lost\nPrice: 6.95\n----BOOK----\nID is bk110\nTitle: Microsoft .NET: The Programming Bible\nPrice: 36.95\n----BOOK----\nID is bk111\nTitle: MSXML3: A Comprehensive Guide\nPrice: 36.95\n----BOOK----\nID is bk112\nTitle: Visual Studio 7: A Comprehensive Guide\nPrice: 49.95\n"
     ]
    }
   ],
   "source": [
    "# SAX with own handler\n",
    "# Handler: Works with the file\n",
    "# Parser: Translates the file\n",
    "import xml.sax\n",
    "\n",
    "class GroupHandler(xml.sax.ContentHandler):\n",
    "    def startElement(self, name, attrs):\n",
    "        # print(name)\n",
    "        self.current = name\n",
    "        if self.current == 'book':\n",
    "            print(\"----BOOK----\")\n",
    "            print(f\"ID is {attrs['id']}\")\n",
    "\n",
    "    def characters(self, content):\n",
    "        if self.current == 'title':\n",
    "            self.title = content\n",
    "        elif self.current == 'price':\n",
    "            self.price = content\n",
    "\n",
    "    def endElement(self, name):\n",
    "        if self.current == 'title':\n",
    "            print(\"Title: {}\".format(self.title))\n",
    "        elif self.current == 'price':\n",
    "            print(\"Price: {}\".format(self.price))\n",
    "        self.current = \"\"\n",
    "\n",
    "handler = GroupHandler()\n",
    "parser = xml.sax.make_parser()\n",
    "parser.setContentHandler(handler)\n",
    "parser.parse('testfile.xml')"
   ]
  },
  {
   "cell_type": "code",
   "execution_count": 21,
   "metadata": {},
   "outputs": [
    {
     "output_type": "stream",
     "name": "stdout",
     "text": [
      "<DOM Element: catalog at 0x11483b5e0>\n[<DOM Element: book at 0x11483b040>, <DOM Element: book at 0x11483bdc0>, <DOM Element: book at 0x114dc7790>, <DOM Element: book at 0x114dc7700>, <DOM Element: book at 0x114dc7ca0>, <DOM Element: book at 0x114d0b1f0>, <DOM Element: book at 0x114d0bc10>, <DOM Element: book at 0x114d0bca0>, <DOM Element: book at 0x11494c670>, <DOM Element: book at 0x11494c0d0>, <DOM Element: book at 0x11494c1f0>, <DOM Element: book at 0x11494c160>]\nID: bk101\nTitle: XML Developer's Guide\nGenre: Computer\nPrice: 44.95\nID: bk102\nTitle: Midnight Rain\nGenre: Fantasy\nPrice: 5.95\nID: bk103\nTitle: Maeve Ascendant\nGenre: Fantasy\nPrice: 5.95\nID: bk104\nTitle: Oberon's Legacy\nGenre: Fantasy\nPrice: 5.95\nID: bk105\nTitle: The Sundered Grail\nGenre: Fantasy\nPrice: 5.95\nID: bk106\nTitle: Lover Birds\nGenre: Romance\nPrice: 4.95\nID: bk107\nTitle: Splish Splash\nGenre: Romance\nPrice: 4.95\nID: bk108\nTitle: Creepy Crawlies\nGenre: Horror\nPrice: 4.95\nID: bk109\nTitle: Paradox Lost\nGenre: Science Fiction\nPrice: 6.95\nID: bk110\nTitle: Microsoft .NET: The Programming Bible\nGenre: Computer\nPrice: 36.95\nID: bk111\nTitle: MSXML3: A Comprehensive Guide\nGenre: Computer\nPrice: 36.95\nID: bk112\nTitle: Visual Studio 7: A Comprehensive Guide\nGenre: Computer\nPrice: 49.95\n<DOM Element: book at 0x114dc7790>\n"
     ]
    }
   ],
   "source": [
    "import xml.dom.minidom\n",
    "\n",
    "# Whole document parsed into DOM-Tree and loaded into memory\n",
    "domtree = xml.dom.minidom.parse('testfile.xml')\n",
    "\n",
    "# find main object (root element)\n",
    "group = domtree.documentElement\n",
    "print(group)\n",
    "\n",
    "books = group.getElementsByTagName('book')\n",
    "print(books)\n",
    "\n",
    "for book in books:\n",
    "    if book.hasAttribute('id'):\n",
    "        print(\"ID: {}\".format(book.getAttribute('id')))\n",
    "\n",
    "    print(f\"Title: {book.getElementsByTagName('title')[0].childNodes[0].data}\")\n",
    "    print(f\"Genre: {book.getElementsByTagName('genre')[0].childNodes[0].data}\")\n",
    "    print(f\"Price: {book.getElementsByTagName('price')[0].childNodes[0].data}\")\n",
    "\n"
   ]
  },
  {
   "cell_type": "code",
   "execution_count": 25,
   "metadata": {},
   "outputs": [
    {
     "output_type": "stream",
     "name": "stdout",
     "text": [
      "New book\nID: 101\n"
     ]
    }
   ],
   "source": [
    "# Minidom 2 - Change Values\n",
    "\n",
    "# Change in domtree\n",
    "books[2].getElementsByTagName('title')[0].childNodes[0].nodeValue = 'New book'\n",
    "print(books[2].getElementsByTagName('title')[0].childNodes[0].data)\n",
    "books[0].setAttribute('id', '101')\n",
    "print(\"ID: {}\".format(books[0].getAttribute('id')))\n",
    "\n",
    "# Add element to domtree\n",
    "new_book = domtree.createElement('book')\n",
    "new_book.setAttribute('id', 'bk999')\n",
    "title = domtree.createElement('title')\n",
    "title.appendChild(domtree.createTextNode('Marios book'))\n",
    "\n",
    "new_book.appendChild(title)\n",
    "\n",
    "group.appendChild(new_book)\n",
    "\n",
    "domtree.writexml(open('testfile2.xml','w'))"
   ]
  },
  {
   "cell_type": "code",
   "execution_count": 5,
   "metadata": {},
   "outputs": [
    {
     "output_type": "stream",
     "name": "stdout",
     "text": [
      "<book id=\"bk102\">\n<author>Ralls, Kim</author>\n<title>Midnight Rain</title>\n<genre>Fantasy</genre>\n<price>5.95</price>\n<publish_date>2000-12-16</publish_date>\n<description>A former architect battles corporate zombies, \n      an evil sorceress, and her own childhood to become queen \n      of the world.</description>\n</book>\n\n\n<author>Ralls, Kim</author>\n\n\n<title>Midnight Rain</title>\n\n\n<genre>Fantasy</genre>\n\n\n<price>5.95</price>\n\n\n<publish_date>2000-12-16</publish_date>\n\n\n<description>A former architect battles corporate zombies, \n      an evil sorceress, and her own childhood to become queen \n      of the world.</description>\n\n\n"
     ]
    }
   ],
   "source": [
    "from bs4 import BeautifulSoup\n",
    "\n",
    "with open('testfile.xml', 'r') as file:\n",
    "    content = file.readlines()\n",
    "\n",
    "    # Combine list into a string\n",
    "    content = ''.join(content)\n",
    "\n",
    "    bs_xml_content = BeautifulSoup(content, 'xml')\n",
    "\n",
    "first_book = bs_xml_content.find('book')\n",
    "first_author = bs_xml_content.find('author')\n",
    "books = bs_xml_content.find_all('book')\n",
    "\n",
    "# Filter based on attributes\n",
    "specific_book = bs_xml_content.find('book', {\"id\": \"bk102\"})\n",
    "# print(first_book)\n",
    "# print(first_author)\n",
    "# print(books)\n",
    "print(specific_book)\n",
    "\n",
    "for item in specific_book:\n",
    "    print(item)"
   ]
  },
  {
   "cell_type": "code",
   "execution_count": 17,
   "metadata": {},
   "outputs": [
    {
     "output_type": "stream",
     "name": "stdout",
     "text": [
      "<Element 'catalog' at 0x10df56680>\ncatalog\nbook {'id': 'bk101'}\nbook {'id': 'bk102'}\nbook {'id': 'bk103'}\nbook {'id': 'bk104'}\nbook {'id': 'bk105'}\nbook {'id': 'bk106'}\nbook {'id': 'bk107'}\nbook {'id': 'bk108'}\nbook {'id': 'bk109'}\nbook {'id': 'bk110'}\nbook {'id': 'bk111'}\nbook {'id': 'bk112'}\nGambardella, Matthew\nXML Developer's Guide\nComputer\n44.95\n2000-10-01\nAn in-depth look at creating applications \n      with XML.\nGambardella, Matthew 44.95\nRalls, Kim 5.95\nCorets, Eva 5.95\nCorets, Eva 5.95\nCorets, Eva 5.95\nRandall, Cynthia 4.95\nThurman, Paula 4.95\nKnorr, Stefan 4.95\nKress, Peter 6.95\nO'Brien, Tim 36.95\nO'Brien, Tim 36.95\nGalos, Mike 49.95\n"
     ]
    }
   ],
   "source": [
    "# Parsing + Finding Elements\n",
    "\n",
    "import xml.etree.ElementTree as ET \n",
    "\n",
    "mytree = ET.parse('testfile.xml')\n",
    "# mytree = ET.fromstring(data)\n",
    "myroot = mytree.getroot()\n",
    "print(myroot)\n",
    "print(myroot.tag)\n",
    "\n",
    "# Attributes saved as dictionaries\n",
    "for book in myroot:\n",
    "    print(book.tag, book.attrib)\n",
    "\n",
    "for entry in myroot[0]:\n",
    "    print(entry.text)\n",
    "\n",
    "# Find all authors + prices\n",
    "for book in myroot.findall('book'):\n",
    "    author = book.find('author').text\n",
    "    price = book.find('price').text\n",
    "    print(author, price)"
   ]
  },
  {
   "cell_type": "code",
   "execution_count": 18,
   "metadata": {},
   "outputs": [],
   "source": [
    "# Modify XML files\n",
    "for description in myroot.iter('description'):\n",
    "    new_desc = str(description.text) + ' tzzz'\n",
    "    description.text = str(new_desc)\n",
    "    description.set('updated', 'yes')\n",
    "\n",
    "mytree.write('testfile3.xml')"
   ]
  },
  {
   "cell_type": "code",
   "execution_count": 20,
   "metadata": {},
   "outputs": [],
   "source": [
    "# Adding Elements\n",
    "ET.SubElement(myroot[0], 'speciality')\n",
    "\n",
    "for element in myroot.iter('speciality'):\n",
    "    b = 'Some speciality'\n",
    "    element.text = str(b)\n",
    "\n",
    "mytree.write('testfile3.xml')"
   ]
  },
  {
   "cell_type": "code",
   "execution_count": 23,
   "metadata": {},
   "outputs": [],
   "source": [
    "# Removing attributes\n",
    "# myroot[0][0].attrib.pop('age')\n",
    "\n",
    "# Remove element\n",
    "myroot[0].remove(myroot[0][1])\n",
    "mytree.write('testfile4.xml')"
   ]
  },
  {
   "cell_type": "code",
   "execution_count": 38,
   "metadata": {
    "tags": [
     "outputPrepend"
    ]
   },
   "outputs": [
    {
     "output_type": "stream",
     "name": "stdout",
     "text": [
      "        ('cve',\n",
      "                                                                                                                                                           OrderedDict([('member',\n",
      "                                                                                                                                                                         'any')])),\n",
      "                                                                                                                                                          ('vendor-id',\n",
      "                                                                                                                                                           OrderedDict([('member',\n",
      "                                                                                                                                                                         'any')])),\n",
      "                                                                                                                                                          ('severity',\n",
      "                                                                                                                                                           OrderedDict([('member',\n",
      "                                                                                                                                                                         'high')])),\n",
      "                                                                                                                                                          ('threat-name',\n",
      "                                                                                                                                                           'any'),\n",
      "                                                                                                                                                          ('host',\n",
      "                                                                                                                                                           'client'),\n",
      "                                                                                                                                                          ('category',\n",
      "                                                                                                                                                           'any'),\n",
      "                                                                                                                                                          ('packet-capture',\n",
      "                                                                                                                                                           'disable'),\n",
      "                                                                                                                                                          ('action',\n",
      "                                                                                                                                                           OrderedDict([('default',\n",
      "                                                                                                                                                                         None)]))]),\n",
      "                                                                                                                                             OrderedDict([('@name',\n",
      "                                                                                                                                                           'simple-client-medium'),\n",
      "                                                                                                                                                          ('cve',\n",
      "                                                                                                                                                           OrderedDict([('member',\n",
      "                                                                                                                                                                         'any')])),\n",
      "                                                                                                                                                          ('vendor-id',\n",
      "                                                                                                                                                           OrderedDict([('member',\n",
      "                                                                                                                                                                         'any')])),\n",
      "                                                                                                                                                          ('severity',\n",
      "                                                                                                                                                           OrderedDict([('member',\n",
      "                                                                                                                                                                         'medium')])),\n",
      "                                                                                                                                                          ('threat-name',\n",
      "                                                                                                                                                           'any'),\n",
      "                                                                                                                                                          ('host',\n",
      "                                                                                                                                                           'client'),\n",
      "                                                                                                                                                          ('category',\n",
      "                                                                                                                                                           'any'),\n",
      "                                                                                                                                                          ('packet-capture',\n",
      "                                                                                                                                                           'disable'),\n",
      "                                                                                                                                                          ('action',\n",
      "                                                                                                                                                           OrderedDict([('default',\n",
      "                                                                                                                                                                         None)]))]),\n",
      "                                                                                                                                             OrderedDict([('@name',\n",
      "                                                                                                                                                           'simple-server-critical'),\n",
      "                                                                                                                                                          ('cve',\n",
      "                                                                                                                                                           OrderedDict([('member',\n",
      "                                                                                                                                                                         'any')])),\n",
      "                                                                                                                                                          ('vendor-id',\n",
      "                                                                                                                                                           OrderedDict([('member',\n",
      "                                                                                                                                                                         'any')])),\n",
      "                                                                                                                                                          ('severity',\n",
      "                                                                                                                                                           OrderedDict([('member',\n",
      "                                                                                                                                                                         'critical')])),\n",
      "                                                                                                                                                          ('threat-name',\n",
      "                                                                                                                                                           'any'),\n",
      "                                                                                                                                                          ('host',\n",
      "                                                                                                                                                           'server'),\n",
      "                                                                                                                                                          ('category',\n",
      "                                                                                                                                                           'any'),\n",
      "                                                                                                                                                          ('packet-capture',\n",
      "                                                                                                                                                           'disable'),\n",
      "                                                                                                                                                          ('action',\n",
      "                                                                                                                                                           OrderedDict([('default',\n",
      "                                                                                                                                                                         None)]))]),\n",
      "                                                                                                                                             OrderedDict([('@name',\n",
      "                                                                                                                                                           'simple-server-high'),\n",
      "                                                                                                                                                          ('cve',\n",
      "                                                                                                                                                           OrderedDict([('member',\n",
      "                                                                                                                                                                         'any')])),\n",
      "                                                                                                                                                          ('vendor-id',\n",
      "                                                                                                                                                           OrderedDict([('member',\n",
      "                                                                                                                                                                         'any')])),\n",
      "                                                                                                                                                          ('severity',\n",
      "                                                                                                                                                           OrderedDict([('member',\n",
      "                                                                                                                                                                         'high')])),\n",
      "                                                                                                                                                          ('threat-name',\n",
      "                                                                                                                                                           'any'),\n",
      "                                                                                                                                                          ('host',\n",
      "                                                                                                                                                           'server'),\n",
      "                                                                                                                                                          ('category',\n",
      "                                                                                                                                                           'any'),\n",
      "                                                                                                                                                          ('packet-capture',\n",
      "                                                                                                                                                           'disable'),\n",
      "                                                                                                                                                          ('action',\n",
      "                                                                                                                                                           OrderedDict([('default',\n",
      "                                                                                                                                                                         None)]))]),\n",
      "                                                                                                                                             OrderedDict([('@name',\n",
      "                                                                                                                                                           'simple-server-medium'),\n",
      "                                                                                                                                                          ('cve',\n",
      "                                                                                                                                                           OrderedDict([('member',\n",
      "                                                                                                                                                                         'any')])),\n",
      "                                                                                                                                                          ('vendor-id',\n",
      "                                                                                                                                                           OrderedDict([('member',\n",
      "                                                                                                                                                                         'any')])),\n",
      "                                                                                                                                                          ('severity',\n",
      "                                                                                                                                                           OrderedDict([('member',\n",
      "                                                                                                                                                                         'medium')])),\n",
      "                                                                                                                                                          ('threat-name',\n",
      "                                                                                                                                                           'any'),\n",
      "                                                                                                                                                          ('host',\n",
      "                                                                                                                                                           'server'),\n",
      "                                                                                                                                                          ('category',\n",
      "                                                                                                                                                           'any'),\n",
      "                                                                                                                                                          ('packet-capture',\n",
      "                                                                                                                                                           'disable'),\n",
      "                                                                                                                                                          ('action',\n",
      "                                                                                                                                                           OrderedDict([('default',\n",
      "                                                                                                                                                                         None)]))])])])),\n",
      "                                                                                                                             ('threat-exception',\n",
      "                                                                                                                              OrderedDict([('entry',\n",
      "                                                                                                                                            OrderedDict([('@name',\n",
      "                                                                                                                                                          '31719'),\n",
      "                                                                                                                                                         ('action',\n",
      "                                                                                                                                                          OrderedDict([('reset-client',\n",
      "                                                                                                                                                                        None)]))]))])),\n",
      "                                                                                                                             ('description',\n",
      "                                                                                                                              \"WW's \"\n",
      "                                                                                                                              'profile')]))]))]))]))]))]))]))]))])\n"
     ]
    }
   ],
   "source": [
    "import xmltodict\n",
    "import pprint\n",
    "\n",
    "with open('testfilepalo.xml', 'r') as file:\n",
    "    content = file.readlines()\n",
    "\n",
    "    # Combine list into a string\n",
    "    content = ''.join(content)\n",
    "    \n",
    "    palocfg = xmltodict.parse(content, process_namespaces=True)\n",
    "\n",
    "pprint.pprint(palocfg)"
   ]
  },
  {
   "cell_type": "code",
   "execution_count": 41,
   "metadata": {
    "tags": []
   },
   "outputs": [
    {
     "output_type": "stream",
     "name": "stdout",
     "text": [
      "<class 'str'>\n"
     ]
    }
   ],
   "source": [
    "#from xml.dom.minidom import parseString\n",
    "#from dicttoxml import dicttoxml\n",
    "#xml = dicttoxml(palocfg)\n",
    "#dom = parseString(xml)\n",
    "#print(dom.toprettyxml())\n",
    "out = xmltodict.unparse(palocfg, pretty=True)\n",
    "#print(type(out))\n",
    "with open('testfilepaloout.xml', 'a') as file:\n",
    "    file.write(out)"
   ]
  },
  {
   "cell_type": "code",
   "execution_count": null,
   "metadata": {},
   "outputs": [],
   "source": []
  }
 ]
}
