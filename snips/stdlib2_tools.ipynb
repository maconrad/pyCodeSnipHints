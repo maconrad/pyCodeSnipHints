{
 "metadata": {
  "language_info": {
   "codemirror_mode": {
    "name": "ipython",
    "version": 3
   },
   "file_extension": ".py",
   "mimetype": "text/x-python",
   "name": "python",
   "nbconvert_exporter": "python",
   "pygments_lexer": "ipython3",
   "version": "3.9.0-final"
  },
  "orig_nbformat": 2,
  "kernelspec": {
   "name": "python3",
   "display_name": "Python 3"
  }
 },
 "nbformat": 4,
 "nbformat_minor": 2,
 "cells": [
  {
   "source": [
    "# Overview\n",
    "- Functools\n",
    "    - Reducing, caching, decorators, generic functions\n",
    "- itertools\n",
    "    - __iter__() and __next__()\n",
    "    - Combinations, permutation, cartegeous product, slicing, chaining\n",
    "    - replicating iterators, grouping functions, filtering items from iterators\n",
    "- Generator functions\n",
    "    - yield statement\n",
    "- Thanks to @CoreySchafer (https://github.com/CoreyMSchafer/)"
   ],
   "cell_type": "markdown",
   "metadata": {}
  },
  {
   "source": [
    "## Functools\n",
    "- functions that act on or return other functions\n",
    "    - reduce()\n",
    "    - generic function (multiple functions implementing the same operation for different types)\n",
    "        - PEP443\n",
    "        -  @singledispatchmethod for classes\n",
    "    - cache and lru_cache decorator for cpu-intense computation that do not change often (memoization)\n",
    "    - total_ordering - eq() and lt() or gt() etc. -> rest is computed\n",
    "    - wraps to create own decorator\n",
    "        - options to pass params to decorator function (not decorated function) (no example)\n",
    "        - option to stack params (no example)"
   ],
   "cell_type": "markdown",
   "metadata": {}
  },
  {
   "cell_type": "code",
   "execution_count": 10,
   "metadata": {},
   "outputs": [
    {
     "output_type": "stream",
     "name": "stdout",
     "text": [
      "15\n20\n"
     ]
    }
   ],
   "source": [
    "import functools\n",
    "lisi = [1,2,3,4,5]\n",
    "\n",
    "#def reduce(function, iterable, initializer=None):\n",
    "# calculates ((((1+2)+3)+4)+5). \n",
    "# The left argument, x, is the accumulated value and \n",
    "# the right argument, y, is the update value from the iterable\n",
    "print(functools.reduce(lambda x, y: x+y, lisi))\n",
    "print(functools.reduce(lambda x, y: x+y, lisi, 5))"
   ]
  },
  {
   "cell_type": "code",
   "execution_count": 17,
   "metadata": {},
   "outputs": [
    {
     "output_type": "stream",
     "name": "stdout",
     "text": [
      "Let me just say, hello\nStrength in numbers, eh? 10\nEnumerate this:\n0 1\n1 huhu\n2 20\n"
     ]
    }
   ],
   "source": [
    "from functools import singledispatch\n",
    "\n",
    "@singledispatch\n",
    "def fun(arg, verbose=False):\n",
    "    if verbose:\n",
    "        print(\"Let me just say,\", end=\" \")\n",
    "    print(arg)\n",
    "\n",
    "@fun.register\n",
    "def _(arg: int, verbose=False):\n",
    "   if verbose:\n",
    "       print(\"Strength in numbers, eh?\", end=\" \")\n",
    "   print(arg)\n",
    "\n",
    "@fun.register\n",
    "def _(arg: list, verbose=False):\n",
    "    if verbose:\n",
    "        print(\"Enumerate this:\")\n",
    "    for i, elem in enumerate(arg):\n",
    "        print(i, elem)\n",
    "\n",
    "fun('hello', verbose=True)\n",
    "fun(10, verbose=True)\n",
    "fun([1,'huhu', '20'],verbose=True)\n"
   ]
  },
  {
   "cell_type": "code",
   "execution_count": 3,
   "metadata": {},
   "outputs": [
    {
     "output_type": "stream",
     "name": "stdout",
     "text": [
      "10\nTime taken to count vowels without caching:  0.0004470348358154297\n10\nTime taken to count vowels with caching lru 1st run:  0.004292964935302734\n10\nTime taken to count vowels with caching lru 2st run:  0.00013303756713867188\n10\nTime taken to count vowels with caching 1st run:  0.00022602081298828125\n10\nTime taken to count vowels with caching 1st run:  0.000225067138671875\n"
     ]
    }
   ],
   "source": [
    "# Memoization\n",
    "# maxsize = num function calls\n",
    "# cache decorator is smaller and faster\n",
    "from functools import lru_cache, cache\n",
    "import time\n",
    "\n",
    "def count_vowels_no_cache(sentence: str):\n",
    "    sentence = sentence.casefold()\n",
    "    return sum(sentence.count(vowel) for vowel in 'aeiou')\n",
    "\n",
    "@lru_cache(maxsize=100)\n",
    "def count_vowels_lru(sentence: str):\n",
    "    sentence = sentence.casefold()\n",
    "    return sum(sentence.count(vowel) for vowel in 'aeiou')\n",
    "\n",
    "@cache\n",
    "def count_vowels_cache(sentence: str):\n",
    "    sentence = sentence.casefold()\n",
    "    return sum(sentence.count(vowel) for vowel in 'aeiou')\n",
    "\n",
    "begin = time.time()\n",
    "print(count_vowels_no_cache(\"This is a nice caching function!\"))\n",
    "end = time.time()\n",
    "print(\"Time taken to count vowels without caching: \", end-begin)\n",
    "\n",
    "begin = time.time()\n",
    "print(count_vowels_lru(\"This is a nice caching function!\"))\n",
    "end = time.time()\n",
    "print(\"Time taken to count vowels with caching lru 1st run: \", end-begin)\n",
    "\n",
    "begin = time.time()\n",
    "print(count_vowels_lru(\"This is a nice caching function!\"))\n",
    "end = time.time()\n",
    "print(\"Time taken to count vowels with caching lru 2st run: \", end-begin)\n",
    "\n",
    "begin = time.time()\n",
    "print(count_vowels_cache(\"This is a nice caching function!\"))\n",
    "end = time.time()\n",
    "print(\"Time taken to count vowels with caching 1st run: \", end-begin)\n",
    "\n",
    "begin = time.time()\n",
    "print(count_vowels_cache(\"This is a nice caching function!\"))\n",
    "end = time.time()\n",
    "print(\"Time taken to count vowels with caching 1st run: \", end-begin)"
   ]
  },
  {
   "cell_type": "code",
   "execution_count": 7,
   "metadata": {},
   "outputs": [
    {
     "output_type": "stream",
     "name": "stdout",
     "text": [
      "True\nTrue\nTrue\n"
     ]
    }
   ],
   "source": [
    "# Total Ordering\n",
    "# Performance impact! define all 6 manually if to slow\n",
    "# eq() and lt() defined manually\n",
    "# => python computes gt(), ge(), le(), noteq() \n",
    "from functools import total_ordering\n",
    "\n",
    "@total_ordering\n",
    "class Actor:\n",
    "    def __init__(self, lastname, firstname):\n",
    "        self.firstname = firstname\n",
    "        self.lastname = lastname\n",
    "    def __eq__(self, other):\n",
    "        return ((self.lastname.lower(), self.firstname.lower()) ==\n",
    "                (other.lastname.lower(), other.firstname.lower()))\n",
    "    def __lt__(self, other):\n",
    "        return ((self.lastname.lower(), self.firstname.lower()) <\n",
    "                (other.lastname.lower(), other.firstname.lower()))\n",
    "\n",
    "\n",
    "actor1 = Actor(\"Alfred\",\"James\")\n",
    "actor2 = Actor(\"Haddock\",\"Captain\")\n",
    "\n",
    "# Auto computed\n",
    "print(actor2 > actor1) \n",
    "print(actor2 >= actor1)\n",
    "print(actor2 != actor1)"
   ]
  },
  {
   "cell_type": "code",
   "execution_count": 31,
   "metadata": {},
   "outputs": [
    {
     "output_type": "stream",
     "name": "stdout",
     "text": [
      "Decorator timing begin...\nDecorator timing end...\nDecorator timing begin...\nDecorator timing end...\nWrapper timing begin...\nFunction fn_no_params took: 1.213999894389417e-06 s\nWrapper timing end...\ngugugag\nDecorator timing begin...\nDecorator timing end...\nWrapper timing begin...\nFunction fn_with_params took: 2.41899988395744e-06 s\nWrapper timing end...\n30\nWrapper timing begin...\nFunction fn_with_params_dec took: 1.725999936752487e-06 s\nWrapper timing end...\n30\n"
     ]
    }
   ],
   "source": [
    "# Wraps\n",
    "# 1. Decorator is called and returns wrapper\n",
    "# 2. Wrapper function is called, decorates + passes args to wrapped function\n",
    "# 3. Inner function is called and result returned\n",
    "from functools import wraps\n",
    "import time\n",
    "\n",
    "# timing = decorator\n",
    "def timing(fn):\n",
    "    print(\"Decorator timing begin...\")\n",
    "    @wraps(fn)\n",
    "    # args and kwargs passed on to decorated function \n",
    "    def wrapper(*args, **kwargs):\n",
    "        print(\"Wrapper timing begin...\")\n",
    "        start_time = time.perf_counter()\n",
    "        # inner function called\n",
    "        fn_result = fn(*args, **kwargs)\n",
    "        end_time = time.perf_counter()\n",
    "        time_duration = end_time - start_time\n",
    "        print(\"Function {} took: {} s\".format(fn.__name__, time_duration))\n",
    "        print(\"Wrapper timing end...\")\n",
    "        return fn_result\n",
    "    print(\"Decorator timing end...\")\n",
    "    return wrapper\n",
    "\n",
    "def fn_no_params():\n",
    "    return \"gugugag\"\n",
    "\n",
    "def fn_with_params(a, b, c=None):\n",
    "    return a + b if c else 0\n",
    "\n",
    "@timing\n",
    "def fn_with_params_dec(a, b, c=None):\n",
    "    return a + b if c else 0\n",
    "\n",
    "\n",
    "# No need for params, function could be passed directly\n",
    "# Wrapper object is returned\n",
    "decorated_fun = timing(fn_no_params)\n",
    "\n",
    "# Wrapper object is called now\n",
    "print(decorated_fun())\n",
    "\n",
    "# Works thanks to *args and **kwargs\n",
    "decorated_fun2 = timing(fn_with_params)\n",
    "print(decorated_fun2(a=10, b=20, c=True))\n",
    "\n",
    "# Decorator style\n",
    "print(fn_with_params_dec(a=10, b=20, c=True))\n",
    "\n"
   ]
  },
  {
   "source": [
    "## Itertools\n",
    "- Iterable: Something that can be looped over, e.g. list, tuples, dicts, strings, files, generator\n",
    "    - How can we tell if it can be looped over or not? How can we tell if it is iterable?\n",
    "        - Answer: dunder __iter__() method implemented\n",
    "        - dunder __iter__() method returns an iterator object (that implements dunder __next__() method)\n",
    "- Iterator: Object with a state that remembers where it is during an iteration and now how to get next value\n",
    "    - dunder __iter__() method returns an iterator\n",
    "    - dunder __next__() method to get next value\n",
    "    - StopIteration exception if no more next values\n",
    "    - Can only go forward, not back etc.\n",
    "    - Make own classes iterable\n",
    "    - Dont need to end, can go forever\n",
    "- Generator: Create easy to use iterators\n",
    "    - Look like normal function but do not return a result but yield a value\n",
    "    - Yield a value = keep state until generator runs again and yields next value\n",
    "    - dunder __iter__() and dunder __next__() created automatically\n",
    "- Itertools: Contain many commonly used iterators + functions to combine iterators\n",
    "    - zip() to combine 2 iterables\n",
    "        - 1st value of 1st iterable combined with 1st value of 2nd iterable\n",
    "        - 2nd value of 1st iterable combined with 2nd value of 2nd interable\n",
    "        - returns iterator that can be looped over\n",
    "        - ends on shortes iterable (e.g. list1 has 5 entries and list2 has 7 entries, ends after 5)\n",
    "            - zip_longest() to pair for longest iterable and pairs with None\n",
    "    - Examples\n",
    "        - Infinitely: count(), cycle(), repeat()\n",
    "        - Finitely: repeat(value, times=n) -> StopIteration\n",
    "    - map(): Function + iterables as arguments\n",
    "        - Will call the function with each iterable elements as arguments\n",
    "    - starmap(): Function + list of tuples that have the arguments already paired together\n",
    "        - will call the function for each of the tuples with the content of the tuple as argument\n",
    "    - islice(): Only going through parts of an iterable\n",
    "    - chain(): Chain 2 iterables together without using additional memory \n",
    "        - E.g. Concatenating multiple lists would create a new list with all values in memory\n",
    "        - E.g. Chain would not create a new list, also works with generators etc.\n",
    "    - product(): Cartegeous product\n",
    "    - combinations: Combinations with and without repetion\n",
    "    - Permutations: Permutations \n",
    "    - Filterfalse(): Negates builtin filter() function\n",
    "    - compress(): Returns filtered iterable (via another iterable that acts as selector)\n",
    "    - drowwhile(): Similar to filter in that it requires a \"filter\" function, but returns rest \n",
    "        of iterable as soon as first true is found\n",
    "    - takewhile(): As long as true value is returned, stops at first false\n",
    "    - accumulate(): Sums up all values in an iterable, Addition by default, but can use other functions\n",
    "    - groupby(): Groups e.g. elements from a dict by a certain value (needs to be sorted beforehand)\n",
    "    - tee(): replicate iterators   \n",
    "- Thanks @CoreySchafer"
   ],
   "cell_type": "markdown",
   "metadata": {}
  },
  {
   "cell_type": "code",
   "execution_count": 43,
   "metadata": {},
   "outputs": [
    {
     "output_type": "stream",
     "name": "stdout",
     "text": [
      "['__add__', '__class__', '__class_getitem__', '__contains__', '__delattr__', '__delitem__', '__dir__', '__doc__', '__eq__', '__format__', '__ge__', '__getattribute__', '__getitem__', '__gt__', '__hash__', '__iadd__', '__imul__', '__init__', '__init_subclass__', '__iter__', '__le__', '__len__', '__lt__', '__mul__', '__ne__', '__new__', '__reduce__', '__reduce_ex__', '__repr__', '__reversed__', '__rmul__', '__setattr__', '__setitem__', '__sizeof__', '__str__', '__subclasshook__', 'append', 'clear', 'copy', 'count', 'extend', 'index', 'insert', 'pop', 'remove', 'reverse', 'sort']\n1\n2\n3\n<class 'list_iterator'>\n<class 'list_iterator'>\n['__class__', '__delattr__', '__dir__', '__doc__', '__eq__', '__format__', '__ge__', '__getattribute__', '__gt__', '__hash__', '__init__', '__init_subclass__', '__iter__', '__le__', '__length_hint__', '__lt__', '__ne__', '__new__', '__next__', '__reduce__', '__reduce_ex__', '__repr__', '__setattr__', '__setstate__', '__sizeof__', '__str__', '__subclasshook__']\n1\n2\n3\n"
     ]
    }
   ],
   "source": [
    "nums = [1, 2, 3]\n",
    "\n",
    "# Check if dunder iter() method implemented = iterable\n",
    "# Not an iterator as duncer next() not implemented\n",
    "print(dir(nums))\n",
    "\n",
    "for num in nums:\n",
    "    print(num)\n",
    "\n",
    "# List object not an iterator \n",
    "# print(next(nums))\n",
    "\n",
    "# For loop gets this (iterator) in the background\n",
    "iterator_nums = nums.__iter__() \n",
    "print(type(iterator_nums))\n",
    "\n",
    "# iter() function calls __iter__() in the background\n",
    "iterator_nums2 = iter(nums) # same as before\n",
    "print(type(iterator_nums2))\n",
    "\n",
    "# Check if dunder iter() method implemented = iterable > True\n",
    "# Check if duncer next() method implemented = iterator > True\n",
    "print(dir(iterator_nums))\n",
    "\n",
    "# Next() to iterate through the values\n",
    "print(next(iterator_nums))\n",
    "print(next(iterator_nums))\n",
    "print(next(iterator_nums))\n",
    "\n",
    "# StopIteration exception > Run out of value\n",
    "# For-Loop knows how to handle this\n",
    "# print(next(iterator_nums)) "
   ]
  },
  {
   "cell_type": "code",
   "execution_count": 48,
   "metadata": {},
   "outputs": [
    {
     "output_type": "stream",
     "name": "stdout",
     "text": [
      "<class '__main__.MyRange'>\n1\n2\n3\n4\n5\n6\n7\n8\n9\n"
     ]
    }
   ],
   "source": [
    "# Make class iterable\n",
    "class MyRange:\n",
    "    def __init__(self, start, end):\n",
    "        self.value = start\n",
    "        self.end = end\n",
    "\n",
    "    def __iter__(self):\n",
    "        # iter function needs to return iterator object\n",
    "        # = object that has a next() method\n",
    "        # If next method implemented, can return self\n",
    "        return self\n",
    "\n",
    "    def __next__(self):\n",
    "        if self.value >= self.end:\n",
    "            raise StopIteration\n",
    "        current = self.value\n",
    "        self.value += 1\n",
    "        return current\n",
    "\n",
    "numbers = MyRange(1, 10)\n",
    "\n",
    "# Manual call\n",
    "print(next(numbers))\n",
    "\n",
    "# Via for-Loop\n",
    "for num in numbers:\n",
    "    print(num)"
   ]
  },
  {
   "cell_type": "code",
   "execution_count": 55,
   "metadata": {},
   "outputs": [
    {
     "output_type": "stream",
     "name": "stdout",
     "text": [
      "1\n2\n3\n4\n5\n6\n7\n8\n9\n"
     ]
    }
   ],
   "source": [
    "# Generator function\n",
    "def my_range(start, end):\n",
    "    current = start\n",
    "    # End of while loop = StopIteration exception\n",
    "    while current < end:\n",
    "        # Returns current value and waits for subsequent next() call\n",
    "        yield current\n",
    "        current += 1\n",
    "\n",
    "numbers = my_range(1,10)\n",
    "# Via next or using a for loop\n",
    "print(next(numbers))\n",
    "print(next(numbers))\n",
    "print(next(numbers))\n",
    "print(next(numbers))\n",
    "print(next(numbers))\n",
    "print(next(numbers))\n",
    "print(next(numbers))\n",
    "print(next(numbers))\n",
    "print(next(numbers))\n",
    "# StopIteration Exception\n",
    "# print(next(numbers))"
   ]
  },
  {
   "cell_type": "code",
   "execution_count": 72,
   "metadata": {},
   "outputs": [
    {
     "output_type": "stream",
     "name": "stdout",
     "text": [
      "0\n1\n5\n7\n"
     ]
    }
   ],
   "source": [
    "# Itertools 1 - Sample function (count) from package\n",
    "import itertools\n",
    "\n",
    "# start at 0 and count up by 1\n",
    "# infinitely\n",
    "counter = itertools.count() \n",
    "print(next(counter))\n",
    "print(next(counter))\n",
    "\n",
    "counter2 = itertools.count(start=5, step=2)\n",
    "print(next(counter2))\n",
    "print(next(counter2))"
   ]
  },
  {
   "cell_type": "code",
   "execution_count": 62,
   "metadata": {},
   "outputs": [
    {
     "output_type": "stream",
     "name": "stdout",
     "text": [
      "<zip object at 0x10866a500>\n[(0, 100), (1, 200), (2, 300), (3, 400)]\n"
     ]
    }
   ],
   "source": [
    "# Itertools 2 - working with the data\n",
    "import itertools\n",
    "\n",
    "data = [100, 200, 300, 400]\n",
    "\n",
    "# Pair up data with an index (100 associated with 0, 200 with 1 etc.)\n",
    "daily_data = zip(itertools.count(), data)\n",
    "print(daily_data)\n",
    "\n",
    "# Could convert zip object to list\n",
    "# daily_data_list = list(daily_data)\n",
    "# print(daily_data_list)\n",
    "for entry in daily_data:\n",
    "    print(entry)"
   ]
  },
  {
   "cell_type": "code",
   "execution_count": 75,
   "metadata": {},
   "outputs": [
    {
     "output_type": "stream",
     "name": "stdout",
     "text": [
      "1\n2\n3\n1\n2\n3\nOn\nOff\nOn\nOff\n"
     ]
    }
   ],
   "source": [
    "# Itertools 3 - Cycling through some values\n",
    "# E.g. Switch on/off\n",
    "import itertools\n",
    "\n",
    "counter = itertools.cycle([1, 2, 3])\n",
    "light_switch = itertools.cycle(('On','Off'))\n",
    "\n",
    "print(next(counter))\n",
    "print(next(counter))\n",
    "print(next(counter))\n",
    "print(next(counter))\n",
    "print(next(counter))\n",
    "print(next(counter))\n",
    "\n",
    "print(next(light_switch))\n",
    "print(next(light_switch))\n",
    "print(next(light_switch))\n",
    "print(next(light_switch))\n"
   ]
  },
  {
   "cell_type": "code",
   "execution_count": 86,
   "metadata": {},
   "outputs": [
    {
     "output_type": "stream",
     "name": "stdout",
     "text": [
      "[0, 1, 4, 9, 16, 25, 36, 49, 64, 81]\n[0, 1, 2, 3, 4, 5, 6, 7, 8, 9]\n[(0, 2), (1, 2), (2, 2), (3, 2), (4, 2), (5, 2), (6, 2), (7, 2), (8, 2), (9, 2)]\n[0, 1, 4, 9, 16, 25, 36, 49, 64, 81]\n"
     ]
    }
   ],
   "source": [
    "# Itertools 4 - Combining with map() function to generate squares of num 1 to 10\n",
    "import itertools\n",
    "\n",
    "# Map takes a function and takes multiple iterables and passes the values of these iterables\n",
    "#  to the function until shortest list of arguments has run through all values\n",
    "#  pow(0, 2), pow(1, 2), pow(2, 2), pow(3, 2) etc.\n",
    "squares = map(pow, range(10), itertools.repeat(2))\n",
    "print(list(squares))\n",
    "\n",
    "# Takes arguments that are already paired together as tuples\n",
    "#data = [1, 2, 3, 4, 5, 6, 7, 8, 9]\n",
    "data = [val for val in range(10)]\n",
    "print(data)\n",
    "zipper = list(zip(data, itertools.repeat(2)))\n",
    "print(zipper)\n",
    "#squares2 = itertools.starmap(pow, [(0, 2)])\n",
    "squares2 = itertools.starmap(pow, zipper)\n",
    "print(list(squares2))"
   ]
  },
  {
   "cell_type": "code",
   "execution_count": 108,
   "metadata": {},
   "outputs": [
    {
     "output_type": "stream",
     "name": "stdout",
     "text": [
      "<itertools.combinations object at 0x107bd3720>\nCombinations: \n('a', 'b')\n('a', 'c')\n('a', 'd')\n('b', 'c')\n('b', 'd')\n('c', 'd')\nPermutations: \n('a', 'b')\n('a', 'c')\n('a', 'd')\n('b', 'a')\n('b', 'c')\n('b', 'd')\n('c', 'a')\n('c', 'b')\n('c', 'd')\n('d', 'a')\n('d', 'b')\n('d', 'c')\nProduct: \n(0, 0, 0, 0)\n(0, 0, 0, 1)\na\nb\nc\nd\n0\n1\n2\n3\nMario\nRoger\n1\n3\nHeader1: Test1\nHeader2: Test2\nHeader3: Test3\n"
     ]
    }
   ],
   "source": [
    "# Itertools 5 - combination and permutation\n",
    "# Combination: order does not matter (e.g. Pokerhand, King/Ace are equal to Ace/King)\n",
    "#   - No repeats of single items by default (combinations_with_replacement() function can do it)\n",
    "# Permutation: order does matter (e.g. Race, car1 before car2 different than car2 before car1)\n",
    "#   - No repeats of single items\n",
    "# Product: Cartegeous product (e.g. Repeatable 4 digit code, pw cracker etc.)\n",
    "# Chain: Chain Iterables, 1st iterable done, go through items in next iterable\n",
    "# Slicing: Slicing iterator (isclice()) - iterator might be too large to cast into a list\n",
    "#   - E.g. only top few lines of a log file (huge log file)\n",
    "import itertools \n",
    "\n",
    "letters = ['a', 'b', 'c', 'd']\n",
    "numbers = [0, 1, 2, 3]\n",
    "names = ['Mario', 'Roger']\n",
    "\n",
    "all_two_char_letters_comb = itertools.combinations(letters, 2)\n",
    "all_two_char_letters_perm = itertools.permutations(letters, 2)\n",
    "print(all_two_char_letters_comb)\n",
    "\n",
    "# all possible combinations of 2 letters\n",
    "print('Combinations: ')\n",
    "for item in all_two_char_letters_comb:\n",
    "    print(item)\n",
    "\n",
    "print('Permutations: ')\n",
    "for item in all_two_char_letters_perm:\n",
    "    print(item)\n",
    "\n",
    "print('Product: ')\n",
    "all_four_number_combos = itertools.product(numbers, repeat=4)\n",
    "# all_four_number_combos = itertools.combinations_with_replacement(numbers, 4)\n",
    "print(next(all_four_number_combos))\n",
    "print(next(all_four_number_combos))\n",
    "#for item in all_four_number_combos:\n",
    "#    print(item)\n",
    "\n",
    "# combined = letters + numbers + names\n",
    "# for item in combined: \n",
    "#   print(item)\n",
    "# Problem -> New list with all values in memory, also works with generators\n",
    "# Solution: Chain\n",
    "combined = itertools.chain(letters, numbers, names)\n",
    "for item in combined:\n",
    "    print(item)\n",
    "\n",
    "result = itertools.islice(range(10), 1, 5, 2) # Starting point, stopping point, step\n",
    "for item in result:\n",
    "    print(item)\n",
    "\n",
    "# Files return an iterator\n",
    "# No need to load entire file into memory\n",
    "with open('testfile.log', 'r') as f:\n",
    "    header = itertools.islice(f, 3) # Stopping point if only 1 argument\n",
    "\n",
    "    for line in header:\n",
    "        print(line, end='')"
   ]
  },
  {
   "cell_type": "code",
   "execution_count": 118,
   "metadata": {},
   "outputs": [
    {
     "output_type": "stream",
     "name": "stdout",
     "text": [
      "a\nb\nd\nBuiltin Filter func:\n1\nItertools Filterfalse func:\n2\n3\n4\n5\nItertools accumulate func:\n1\n2\n6\n24\n120\n"
     ]
    }
   ],
   "source": [
    "# itertools 6 - compress, filter, accumulate and groupby\n",
    "# Compress(): Filter down data\n",
    "#   - Returns a new iterable that only contains filtered data\n",
    "#   - Similar to filter function, but filter function requires a function to determine true/false\n",
    "#     Compress uses iterable itself (not a function)\n",
    "# filterfalse(): Negate builtin filter() function\n",
    "# accumulate(): Accumulate and returns iterable of results\n",
    "\n",
    "import itertools\n",
    "import operator\n",
    "\n",
    "letters = ['a', 'b', 'c', 'd']\n",
    "numbers = [1, 2, 3, 4, 5]\n",
    "names = ['Mario', 'Roger']\n",
    "\n",
    "# E.g. person is married, over 21 etc.\n",
    "selectors = [True, True, False, True]\n",
    "\n",
    "result = itertools.compress(letters, selectors)\n",
    "\n",
    "for item in result:\n",
    "    print(item)\n",
    "\n",
    "# Comparision to filter function\n",
    "def lt_2(n):\n",
    "    if n < 2:\n",
    "        return True\n",
    "    return False\n",
    "\n",
    "print('Builtin Filter func:')\n",
    "result = filter(lt_2, numbers)\n",
    "for item in result:\n",
    "    print(item)\n",
    "\n",
    "print('Itertools Filterfalse func:')\n",
    "result = itertools.filterfalse(lt_2, numbers)\n",
    "for item in result:\n",
    "    print(item)\n",
    "\n",
    "print('Itertools accumulate func:')\n",
    "# If no second argument, than addition is done\n",
    "result = itertools.accumulate(numbers, operator.mul)\n",
    "for item in result:\n",
    "    print(item)"
   ]
  },
  {
   "cell_type": "code",
   "execution_count": 122,
   "metadata": {},
   "outputs": [
    {
     "output_type": "stream",
     "name": "stdout",
     "text": [
      "NY <itertools._grouper object at 0x1079c0400> 2\n\nCO <itertools._grouper object at 0x1079e5b20> 2\n\nWV <itertools._grouper object at 0x107fef2e0> 2\n\nNC <itertools._grouper object at 0x108754370> 3\n\n"
     ]
    }
   ],
   "source": [
    "# Itertools 7 - Group by & tee\n",
    "# groupby(): needs a function to know what to group on\n",
    "#   Important: Needs values to be sorted beforehand! Unlike SQL (need to sort dict beforehand)\n",
    "#   Returns a tuple with key what was grouped on + iterable with items from that group\n",
    "# tee(): Replicate an iterable -> own individual iterables\n",
    "#   Important: Original iterator should not be used anymore\n",
    "\n",
    "import itertools\n",
    "\n",
    "def get_state(person):\n",
    "    return person['state']\n",
    "\n",
    "\n",
    "people = [\n",
    "    {\n",
    "        'name': 'John Doe',\n",
    "        'city': 'Gotham',\n",
    "        'state': 'NY'\n",
    "    },\n",
    "    {\n",
    "        'name': 'Jane Doe',\n",
    "        'city': 'Kings Landing',\n",
    "        'state': 'NY'\n",
    "    },\n",
    "    {\n",
    "        'name': 'Corey Schafer',\n",
    "        'city': 'Boulder',\n",
    "        'state': 'CO'\n",
    "    },\n",
    "    {\n",
    "        'name': 'Al Einstein',\n",
    "        'city': 'Denver',\n",
    "        'state': 'CO'\n",
    "    },\n",
    "    {\n",
    "        'name': 'John Henry',\n",
    "        'city': 'Hinton',\n",
    "        'state': 'WV'\n",
    "    },\n",
    "    {\n",
    "        'name': 'Randy Moss',\n",
    "        'city': 'Rand',\n",
    "        'state': 'WV'\n",
    "    },\n",
    "    {\n",
    "        'name': 'Nicole K',\n",
    "        'city': 'Asheville',\n",
    "        'state': 'NC'\n",
    "    },\n",
    "    {\n",
    "        'name': 'Jim Doe',\n",
    "        'city': 'Charlotte',\n",
    "        'state': 'NC'\n",
    "    },\n",
    "    {\n",
    "        'name': 'Jane Taylor',\n",
    "        'city': 'Faketown',\n",
    "        'state': 'NC'\n",
    "    }\n",
    "]\n",
    "\n",
    "person_group = itertools.groupby(people, get_state)\n",
    "copy1, copy2 = itertools.tee(person_group)\n",
    "\n",
    "for key, group in copy1:\n",
    "    print(key, group, len(list(group)))\n",
    "    for person in group:\n",
    "        print(person)\n",
    "    print()\n",
    "\n"
   ]
  },
  {
   "cell_type": "code",
   "execution_count": null,
   "metadata": {},
   "outputs": [],
   "source": []
  }
 ]
}
