{
 "metadata": {
  "language_info": {
   "codemirror_mode": {
    "name": "ipython",
    "version": 3
   },
   "file_extension": ".py",
   "mimetype": "text/x-python",
   "name": "python",
   "nbconvert_exporter": "python",
   "pygments_lexer": "ipython3",
   "version": "3.9.0-final"
  },
  "orig_nbformat": 2,
  "kernelspec": {
   "name": "python3",
   "display_name": "Python 3"
  }
 },
 "nbformat": 4,
 "nbformat_minor": 2,
 "cells": [
  {
   "source": [
    "# Copying\n",
    "- Shallow copy\n",
    "    - one level deep, only references of nested child objects\n",
    "- Deep copy\n",
    "    - full independent copy\n",
    "    - builtin for list/dict/tuple\n",
    "    - custum objects/classes: works the same, use deepcopy() for full copies"
   ],
   "cell_type": "markdown",
   "metadata": {}
  },
  {
   "cell_type": "code",
   "execution_count": 4,
   "metadata": {},
   "outputs": [
    {
     "output_type": "stream",
     "name": "stdout",
     "text": [
      "[-10, 1, 2, 3, 4]\n[-10, 1, 2, 3, 4]\n5\n6\n"
     ]
    }
   ],
   "source": [
    "# Lists etc. by Reference\n",
    "list_a = [0, 1, 2, 3, 4]\n",
    "copy_list_a = list_a\n",
    "copy_list_a[0] = -10\n",
    "print(list_a)\n",
    "print(copy_list_a)\n",
    "\n",
    "# Vars etc. by value\n",
    "val1 = 5\n",
    "copy_val1 = val1\n",
    "copy_val1 = 6\n",
    "print(val1)\n",
    "print(copy_val1)"
   ]
  },
  {
   "cell_type": "code",
   "execution_count": 11,
   "metadata": {},
   "outputs": [
    {
     "output_type": "stream",
     "name": "stdout",
     "text": [
      "[0, 1, 2, 3, 4]\n[-10, 1, 2, 3, 4]\n[-2, 1, 2, 3, 4]\n[-3, 1, 2, 3, 4]\n[-4, 1, 2, 3, 4]\n"
     ]
    }
   ],
   "source": [
    "# Shallow copies (1 level deep)\n",
    "\n",
    "import copy \n",
    "\n",
    "list_a = [0, 1, 2, 3, 4]\n",
    "copy_list_a = copy.copy(list_a)\n",
    "copy_list_a[0] = -10\n",
    "print(list_a)\n",
    "print(copy_list_a)\n",
    "\n",
    "# Alternatives for 1 Level deep copying\n",
    "# copy, list() or list slicing\n",
    "copy_list_a1 = list_a.copy()\n",
    "copy_list_a2 = list(list_a)\n",
    "copy_list_a3 = list_a[:]\n",
    "copy_list_a1[0] = -2\n",
    "copy_list_a2[0] = -3\n",
    "copy_list_a3[0] = -4\n",
    "print(copy_list_a1)\n",
    "print(copy_list_a2)\n",
    "print(copy_list_a3)"
   ]
  },
  {
   "cell_type": "code",
   "execution_count": 14,
   "metadata": {},
   "outputs": [
    {
     "output_type": "stream",
     "name": "stdout",
     "text": [
      "[[0, -10, 2, 3, 4], [5, 6, 7, 8, 9]]\n[[0, -10, 2, 3, 4], [5, 6, 7, 8, 9]]\n"
     ]
    }
   ],
   "source": [
    "# Nested List, shallow copy does not work!\n",
    "original = [\n",
    "    [0, 1, 2, 3, 4],\n",
    "    [5, 6, 7, 8, 9]\n",
    "]\n",
    "cpy = copy.copy(original)\n",
    "cpy[0][1] = -10\n",
    "print(original)\n",
    "print(cpy)"
   ]
  },
  {
   "cell_type": "code",
   "execution_count": 15,
   "metadata": {},
   "outputs": [
    {
     "output_type": "stream",
     "name": "stdout",
     "text": [
      "[[0, 1, 2, 3, 4], [5, 6, 7, 8, 9]]\n[[0, -10, 2, 3, 4], [5, 6, 7, 8, 9]]\n"
     ]
    }
   ],
   "source": [
    " # Nested List, shallow copy does not work!\n",
    "original = [\n",
    "    [0, 1, 2, 3, 4],\n",
    "    [5, 6, 7, 8, 9]\n",
    "]\n",
    "cpy = copy.deepcopy(original)\n",
    "cpy[0][1] = -10\n",
    "print(original)\n",
    "print(cpy)"
   ]
  },
  {
   "cell_type": "code",
   "execution_count": 19,
   "metadata": {},
   "outputs": [
    {
     "output_type": "stream",
     "name": "stdout",
     "text": [
      "28\n28\n28\n29\n56\n56\n55\n56\n"
     ]
    }
   ],
   "source": [
    "# Custom class shallow copy works as well\n",
    "class Person:\n",
    "    def __init__(self, name, age):\n",
    "        self.name = name\n",
    "        self.age = age\n",
    "\n",
    "class Company:\n",
    "    def __init__(self, boss, employee):\n",
    "        self.boss = boss\n",
    "        self.employee = employee\n",
    "\n",
    "p1 = Person('Alex', 27)\n",
    "p2 = p1\n",
    "\n",
    "# Does not work, only reference\n",
    "p2.age = 28\n",
    "print(p1.age)\n",
    "print(p2.age)\n",
    "\n",
    "p3 = copy.copy(p1)\n",
    "p3.age = 29\n",
    "print(p1.age)\n",
    "print(p3.age)\n",
    "\n",
    "# Company Shallow copy does not work\n",
    "p_boss = Person('hugo', 55)\n",
    "p_employee = Person('robert', 30)\n",
    "company = Company(p_boss, p_employee)\n",
    "company_clone = copy.copy(company)\n",
    "\n",
    "company_clone.boss.age = 56\n",
    "print(company.boss.age)\n",
    "print(company_clone.boss.age)\n",
    "\n",
    "# Company Shallow copy does not work\n",
    "p_boss = Person('hugo', 55)\n",
    "p_employee = Person('robert', 30)\n",
    "company = Company(p_boss, p_employee)\n",
    "company_clone = copy.deepcopy(company)\n",
    "\n",
    "company_clone.boss.age = 56\n",
    "print(company.boss.age)\n",
    "print(company_clone.boss.age)"
   ]
  },
  {
   "cell_type": "code",
   "execution_count": null,
   "metadata": {},
   "outputs": [],
   "source": []
  }
 ]
}
