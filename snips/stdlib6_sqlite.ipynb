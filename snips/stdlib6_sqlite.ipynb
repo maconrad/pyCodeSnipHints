{
 "metadata": {
  "language_info": {
   "codemirror_mode": {
    "name": "ipython",
    "version": 3
   },
   "file_extension": ".py",
   "mimetype": "text/x-python",
   "name": "python",
   "nbconvert_exporter": "python",
   "pygments_lexer": "ipython3",
   "version": "3.9.0-final"
  },
  "orig_nbformat": 2,
  "kernelspec": {
   "name": "python3",
   "display_name": "Python 3"
  }
 },
 "nbformat": 4,
 "nbformat_minor": 2,
 "cells": [
  {
   "source": [
    "# SQLite3\n",
    "- SQLite3, CSV, itertools, webkite time"
   ],
   "cell_type": "markdown",
   "metadata": {}
  },
  {
   "cell_type": "code",
   "execution_count": 8,
   "metadata": {},
   "outputs": [],
   "source": [
    "import sqlite3\n",
    "\n",
    "def create_connection(db_file):\n",
    "    \"\"\" create a database connection to the SQLite database\n",
    "        specified by the db_file\n",
    "    :param db_file: database file\n",
    "    :return: Connection object or None\n",
    "    \"\"\"\n",
    "    conn = None\n",
    "    try:\n",
    "        conn = sqlite3.connect(db_file)\n",
    "    except Error as e:\n",
    "        print(e)\n",
    "\n",
    "    return conn"
   ]
  },
  {
   "cell_type": "code",
   "execution_count": 9,
   "metadata": {},
   "outputs": [],
   "source": [
    "def select_all_urls(conn):\n",
    "    \"\"\"\n",
    "    Query all rows in the tasks table\n",
    "    :param conn: the Connection object\n",
    "    :return:\n",
    "    \"\"\"\n",
    "    cur = conn.cursor()\n",
    "    cur.execute(\"SELECT * FROM urls\")\n",
    "\n",
    "    rows = cur.fetchall()\n",
    "\n",
    "    for row in rows:\n",
    "        print(row)"
   ]
  },
  {
   "cell_type": "code",
   "execution_count": 23,
   "metadata": {},
   "outputs": [],
   "source": [
    "def select_url_by_filter(conn, filter):\n",
    "    \"\"\"\n",
    "    Query tasks by priority\n",
    "    :param conn: the Connection object\n",
    "    :param priority:\n",
    "    :return:\n",
    "    \"\"\"\n",
    "    cur = conn.cursor()\n",
    "    cur.execute(\"SELECT url, title, last_visit_time \\\n",
    "        FROM urls \\\n",
    "        WHERE title like '%job%' OR title like '%Job%' OR \\\n",
    "        title like '%Stelle%' \") #WHERE priority=?\", (priority,))\n",
    "\n",
    "    #CV / Lebenslauf / Mitarbeiter / Bewerb / assistent / Assist / karriere / Teilzeit / Praktikant / arbeit\n",
    "    # bildung / angebot / sozial / Praktikum / leitung / npo / NPO / tätigkeit / unternehmen / Stiftung\n",
    "    # Fachkraft / NGO / \n",
    "\n",
    "    rows = cur.fetchall()\n",
    "\n",
    "    for row in rows:\n",
    "        print(row)"
   ]
  },
  {
   "cell_type": "code",
   "execution_count": 9,
   "metadata": {},
   "outputs": [],
   "source": [
    "\n",
    "database = r\"history.db\"\n",
    "\n",
    "# create a database connection\n",
    "conn = create_connection(database)"
   ]
  },
  {
   "cell_type": "code",
   "execution_count": 10,
   "metadata": {
    "tags": []
   },
   "outputs": [],
   "source": [
    "\n",
    "def select_by_query(conn, query):\n",
    "    \"\"\"\n",
    "    Query tasks by priority\n",
    "    :param conn: the Connection object\n",
    "    :param query: Whole SQL Query\n",
    "    :return:\n",
    "    \"\"\"\n",
    "    cur = conn.cursor()\n",
    "    cur.execute(query)\n",
    "\n",
    "    rows = cur.fetchall()\n",
    "\n",
    "    return rows\n",
    "    #for row in rows:\n",
    "    #    print(row)"
   ]
  },
  {
   "cell_type": "code",
   "execution_count": 11,
   "metadata": {},
   "outputs": [],
   "source": [
    "import itertools\n",
    "\n",
    "def build_select_string(tbl: str, oper: str, filters: list[tuple]):\n",
    "    #base = f\"SELECT * from {tbl2} v inner join {tbl} u on v.url = u.id WHERE\"\n",
    "    base = f\"SELECT * from {tbl} WHERE\"\n",
    "\n",
    "    filters_data = zip(itertools.count(), filters)\n",
    "    print(filters_data)\n",
    "\n",
    "    #if filters and len(filters_data) >= 1:\n",
    "    for index, field in filters_data:\n",
    "        if index > 0:\n",
    "            base += f\"{oper} {field[0]} like '%{field[1]}%' \"   \n",
    "        else: \n",
    "            base += f\" {field[0]} like '%{field[1]}%' \"\n",
    "    #else:\n",
    "        #print('no filters defined')\n",
    "    print(base)\n",
    "    return base.strip()\n",
    "    \n",
    "\n",
    "    #cur.execute(\"SELECT url, title, last_visit_time \\\n",
    "    #    FROM urls \\\n",
    "    #    WHERE title like '%job%' OR title like '%Job%' OR \\\n",
    "    #    title like '%Stelle%' \") #WHERE priority=?\", (priority,))"
   ]
  },
  {
   "cell_type": "code",
   "execution_count": 12,
   "metadata": {},
   "outputs": [
    {
     "output_type": "stream",
     "name": "stdout",
     "text": [
      "<zip object at 0x110a86f80>\nSELECT * from urls WHERE title like '%job%' OR title like '%Job%' OR title like '%CV%' OR title like '%ebenslauf%' OR title like '%itarbeiter%' OR title like '%ewerb%' OR title like '%ssistent%' OR title like '%arriere%' OR title like '%eilzeit%' OR title like '%aktikant%' OR title like '%arbeit%' OR title like '%bildung%' OR title like '%angebot%' OR title like '%sozial%' OR title like '%raktikum%' OR title like '%leitung%' OR title like '%npo%' OR title like '%NPO%' OR title like '%NGO%' OR title like '%nternehmen%' OR title like '%tiftung%' OR title like '%achkraft%' \n"
     ]
    }
   ],
   "source": [
    "filters = [\n",
    "    ('title','job'),\n",
    "    ('title','Job'),\n",
    "    ('title','CV'),\n",
    "    ('title','ebenslauf'),\n",
    "    ('title','itarbeiter'),\n",
    "    ('title','ewerb'),\n",
    "    ('title','ssistent'),\n",
    "    ('title','arriere'),\n",
    "    ('title','eilzeit'),\n",
    "    ('title','aktikant'),\n",
    "    ('title','arbeit'),\n",
    "    ('title','bildung'),\n",
    "    ('title','angebot'),\n",
    "    ('title','sozial'),\n",
    "    ('title','raktikum'),\n",
    "    ('title','leitung'),\n",
    "    ('title','npo'),\n",
    "    ('title','NPO'),\n",
    "    ('title','NGO'),\n",
    "    ('title','nternehmen'),\n",
    "    ('title','tiftung'),\n",
    "    ('title','achkraft'),\n",
    "    \n",
    "]\n",
    "query = build_select_string(tbl='urls', oper='OR', filters=filters)"
   ]
  },
  {
   "cell_type": "code",
   "execution_count": 127,
   "metadata": {
    "tags": [
     "outputPrepend"
    ]
   },
   "outputs": [
    {
     "output_type": "stream",
     "name": "stdout",
     "text": [
      "AOD64_2MEkMfT72zQQKZ0C8RFRLyUfN0Fw&q&adurl&ved=2ahUKEwidzML5-o7sAhUOz4UKHTWLCmIQ0Qx6BAgfEAE&dct=1', 'Soda PDF | Die PDF-Komplettlösung - PDF bearbeiten & konvertieren', 1, 0, 13245876540461251, 0), (1364, 'https://www.sodapdf.de/ppc/perpetual/lp1/?uid=1015136&cmp=spdf_dir_g_de-ch_s_a_all&key1=pdfbearbeiten_xct&key2=pdfbearbeiten_xct0x0L1XXa180321&msg1=PDF+bearbeiten+mit+Soda+PDF+10&keyb=e_pdf%20bearbeiten&gclid=Cj0KCQjwtsv7BRCmARIsANu-CQft4GQj2bbuxA8HOmgDWuZFhH5WEtKCjkc_Lac3IarSXMubKlpxi9QaAlIHEALw_wcB', 'Soda PDF | Die PDF-Komplettlösung - PDF bearbeiten & konvertieren', 1, 0, 13245876540461251, 0), (1365, 'https://www.sodapdf.de/ppc/perpetual/lp1/?uid=1015136&cmp=spdf_dir_g_de-ch_s_a_all&key1=pdfbearbeiten_xct&key2=pdfbearbeiten_xct0x0L1XXa180321&msg1=PDF+bearbeiten+mit+Soda+PDF+10&keyb=e_pdf%20bearbeiten', 'Soda PDF | Die PDF-Komplettlösung - PDF bearbeiten & konvertieren', 1, 0, 13245876540461251, 0), (1384, 'https://www.silbentrennung24.de/?term=Unternehmens', 'unternehmens • Silbentrennung • Worttrennung', 1, 0, 13245947723324901, 0), (1385, 'https://www.silbentrennung24.de/wort/unternehmens/', 'unternehmens • Silbentrennung • Worttrennung', 1, 0, 13245947723324901, 0), (1386, 'https://www.silbentrennung24.de/?term=unternehmen', 'unternehmen • Silbentrennung • Worttrennung', 1, 0, 13245947727433976, 0), (1387, 'https://www.silbentrennung24.de/wort/unternehmen/', 'unternehmen • Silbentrennung • Worttrennung', 2, 0, 13245949307515995, 0), (1405, 'https://npo-jobs.ch/job/sachbearbeiter-in-fachsupport-80-100/3151725873', 'Sachbearbeiter/in Fachsupport 80-100% - npo-jobs.ch', 1, 0, 13245950430417263, 0), (1406, 'https://npo-jobs.ch/job/gescha%CC%88ftsleitungsassistent-in/3151726159', 'Geschäftsleitungsassistent/-in - npo-jobs.ch', 1, 0, 13245950464219240, 0), (1407, 'file:///C:/Users/mario/OneDrive/Desktop/20-09-11%20Stelleninserat%20GL-Assistent-in.pdf', '20-09-11 Stelleninserat GL-Assistent-in.pdf', 1, 0, 13245950477758544, 0), (1408, 'https://npo-jobs.ch/administration-sekretariat-jobs?page=2#results', 'Alle Jobs im Bereich NPO in der Administration / Sekretariat - 137 Jobs gefunden - npo-jobs.ch', 4, 0, 13245950682589141, 0), (1409, 'https://npo-jobs.ch/job/sachbearbeiter-in-administration-pensum-80/3151595a4d', 'Sachbearbeiter/In Administration Pensum 80% - npo-jobs.ch', 1, 0, 13245950573760515, 0), (1410, 'https://npo-jobs.ch/job/spezialist-in-administration-programme-80/3151577257', 'Spezialist in Administration Programme, 80% - npo-jobs.ch', 1, 0, 13245950591260283, 0), (1411, 'https://npo-jobs.ch/job/sachbearbeiter-in-datenerfassung-70-80/3151513956', 'Sachbearbeiter_in Datenerfassung (70-80 %) - npo-jobs.ch', 1, 0, 13245950659114511, 0), (1412, 'https://npo-jobs.ch/administration-sekretariat-jobs?page=3#results', 'Alle Jobs im Bereich NPO in der Administration / Sekretariat - 137 Jobs gefunden - npo-jobs.ch', 2, 0, 13245950781408953, 0), (1413, 'https://npo-jobs.ch/job/sachbearbeiter-in-hr-mit-zahlenflair-50/314a595857', 'Sachbearbeiter/in HR mit Zahlenflair 50% - npo-jobs.ch', 1, 0, 13245950766534408, 0), (1414, 'https://npo-jobs.ch/job/sekreta%CC%88rin/55425039', 'SekretärIn - npo-jobs.ch', 1, 0, 13245950791640502, 0), (1434, 'https://karrierebibel.de/?s=Lebenslauf&submit=', 'Du hast nach Lebenslauf gesucht - karrierebibel.de', 1, 0, 13246123839930788, 0), (1435, 'https://karrierebibel.de/lebenslauf-beispiele/', 'Lebenslauf Beispiele', 2, 0, 13246559680652655, 0), (1436, 'https://karrierebibel.de/bewerbungsvorlagen/', 'Bewerbungsvorlagen: Über 120 kostenlose Muster + Tipps', 1, 0, 13246124065879715, 0), (1437, 'https://karrierebibel.de/bewerbungsvorlagen/#Lebenslauf-50+-Bewerbungsvorlagen', 'Bewerbungsvorlagen: Über 120 kostenlose Muster + Tipps', 1, 0, 13246470119295072, 0), (1457, 'https://www.prosenectute.ch/de/ueber-uns/jobs.html', 'Jobs', 1, 0, 13246559626421371, 0), (1459, 'https://www.google.com/search?q=Stellen+ngos+schweiz+teilzeit&oq=Stellen+ngos+schweiz+teilzeit&aqs=chrome..69i57.9497j0j1&sourceid=chrome&ie=UTF-8', 'Stellen ngos schweiz teilzeit - Google Suche', 6, 0, 13246383134993478, 0), (1460, 'https://www.googleadservices.com/pagead/aclk?sa=L&ai=DChcSEwjditDf2J3sAhWY-FEKHSIcAnAYABAAGgJ3cw&ohost=www.google.com&cid=CAESQOD2tmghLNF6P3e-Qks-yj72yAwhSpYCXk6Phhcn7CfdHyGVh_NJew4p6hsRul-JXuQibS3BMdQsk6J9ujaDJ8k&sig=AOD64_3aMKdwsYsnEEIyDr_tB8R1ZXlxIw&q&adurl&ved=2ahUKEwjk2sTf2J3sAhWqxIUKHX1CCx8Q0Qx6BAgOEAE', 'Landingpage: Internes Matching für Unternehmen - Tandemploy DE', 1, 0, 13246382809098560, 0), (1461, 'https://www.tandemploy.com/de/internes-matching-fuer-unternehmen/?utm_term=job%20sharing&utm_campaign=Matching+LP+-+Jobsharing&utm_source=adwords&utm_medium=ppc&hsa_acc=8663258651&hsa_cam=7778045910&hsa_grp=78872592702&hsa_ad=399442120486&hsa_src=g&hsa_tgt=kwd-23307616&hsa_kw=job%20sharing&hsa_mt=b&hsa_net=adwords&hsa_ver=3&param1=&gclid=EAIaIQobChMI3enIwPL76AIVGOh3Ch32LAtEEAAYASAAEgLZN_D_BwE&gclid=CjwKCAjwiOv7BRBREiwAXHbv3NteUbS6WdvQDKGgmbU6anLT6Wzmd7XAvU3pfHGf7kz1SDI9fp0gWRoCUngQAvD_BwE#matching-kurzeinsaetze&utm_term=kurzeins%C3%A4tze%20jobs&utm_campaign=Matching+LP+-+Kurzeinsaetze&utm_source=adwords&utm_medium=ppc&hsa_acc=8663258651&hsa_cam=9832460314&hsa_grp=105639645968&hsa_ad=432427218468&hsa_src=g&hsa_tgt=kwd-315851093657&hsa_kw=kurzeins%C3%A4tze%20jobs&hsa_mt=b&hsa_net=adwords&hsa_ver=3&param1=#matching-kurzeinsaetze', 'Landingpage: Internes Matching für Unternehmen - Tandemploy DE', 1, 0, 13246382809098560, 0), (1462, 'https://www.tandemploy.com/de/internes-matching-fuer-unternehmen/?utm_term=job%20sharing&utm_campaign=Matching+LP+-+Jobsharing&utm_source=adwords&utm_medium=ppc&hsa_acc=8663258651&hsa_cam=7778045910&hsa_grp=78872592702&hsa_ad=399442120486&hsa_src=g&hsa_tgt=kwd-23307616&hsa_kw=job%20sharing&hsa_mt=b&hsa_net=adwords&hsa_ver=3&param1=#matching-kurzeinsaetze&utm_term=kurzeins%C3%A4tze%20jobs&utm_campaign=Matching+LP+-+Kurzeinsaetze&utm_source=adwords&utm_medium=ppc&hsa_acc=8663258651&hsa_cam=9832460314&hsa_grp=105639645968&hsa_ad=432427218468&hsa_src=g&hsa_tgt=kwd-315851093657&hsa_kw=kurzeins%C3%A4tze%20jobs&hsa_mt=b&hsa_net=adwords&hsa_ver=3&param1=#matching-kurzeinsaetze', 'Landingpage: Internes Matching für Unternehmen - Tandemploy DE', 1, 0, 13246382809098560, 0), (1468, 'https://www.googleadservices.com/pagead/aclk?sa=L&ai=DChcSEwjditDf2J3sAhWY-FEKHSIcAnAYABADGgJ3cw&ohost=www.google.com&cid=CAESQOD2tmghLNF6P3e-Qks-yj72yAwhSpYCXk6Phhcn7CfdHyGVh_NJew4p6hsRul-JXuQibS3BMdQsk6J9ujaDJ8k&sig=AOD64_3Fss6v0UT-iw318y3Rp5shlLFQ_w&q&adurl&ved=2ahUKEwjk2sTf2J3sAhWqxIUKHX1CCx8Q0Qx6BAgNEAE', 'Non Profit Jobs in der Schweiz 【 Mitarbeiter gesucht 】 Stellenanzeigen', 1, 0, 13246383009344876, 0), (1469, 'https://neuvoo.ch/jobs/?k=Non+Profit&l=&source=adwords&gclid=CjwKCAjwiOv7BRBREiwAXHbv3DtRVlGtE6hiBj7mR1Y0nj-DIdN5nSecLgFyYZnGeBnftg685vcahRoCKxgQAvD_BwE', 'Non Profit Jobs in der Schweiz 【 Mitarbeiter gesucht 】 Stellenanzeigen', 1, 0, 13246383009344876, 0), (1470, 'https://neuvoo.ch/jobs/?k=Non+Profit&l=&source=adwords', 'Non Profit Jobs in der Schweiz 【 Mitarbeiter gesucht 】 Stellenanzeigen', 1, 0, 13246383009344876, 0), (1471, 'https://www.googleadservices.com/pagead/aclk?sa=L&ai=DChcSEwjditDf2J3sAhWY-FEKHSIcAnAYABACGgJ3cw&ohost=www.google.com&cid=CAESQOD2tmghLNF6P3e-Qks-yj72yAwhSpYCXk6Phhcn7CfdHyGVh_NJew4p6hsRul-JXuQibS3BMdQsk6J9ujaDJ8k&sig=AOD64_0G0Oh8kYfZo5owE92UD9Op0Qx4ig&q&adurl&ved=2ahUKEwjk2sTf2J3sAhWqxIUKHX1CCx8Q0Qx6BAgPEAE', 'Arbeiten bei Terre des hommes | Terre des hommes', 1, 0, 13246383082571911, 0), (1472, 'https://www.tdh.ch/de/arbeiten-bei-terre-des-hommes?gclid=CjwKCAjwiOv7BRBREiwAXHbv3ClE1YkTABaiGYYSAKriTyEAjdjtBOxCGz5pozOaxWWXGnPtmfOBixoCoGEQAvD_BwE', 'Arbeiten bei Terre des hommes | Terre des hommes', 1, 0, 13246383082571911, 0), (1473, 'https://www.tdh.ch/de/arbeiten-bei-terre-des-hommes', 'Arbeiten bei Terre des hommes | Terre des hommes', 1, 0, 13246383082571911, 0), (1474, 'https://www.tdh.ch/de/arbeiten-bei-terre-hommes', 'Arbeiten bei Terre des hommes | Terre des hommes', 1, 0, 13246383082571911, 0), (1475, 'https://www.jobs.ch/de/stellenangebote/verwaltung-bildung-soziales/ngo-npo-hilfswerke/', '274 NGO / NPO / Hilfswerke Jobs - jobs.ch', 1, 0, 13246383151758060, 0), (1476, 'https://www.jobs.ch/de/stellenangebote/verwaltung-bildung-soziales/ngo-npo-hilfswerke/?page=2', '274 NGO / NPO / Hilfswerke Jobs - jobs.ch', 1, 0, 13246383216648495, 0), (1477, 'https://www.jobs.ch/de/stellenangebote/verwaltung-bildung-soziales/ngo-npo-hilfswerke/?page=2&jobid=9904853', '274 NGO / NPO / Hilfswerke Jobs - jobs.ch', 1, 0, 13246383232714249, 0), (1478, 'https://www.jobs.ch/de/stellenangebote/verwaltung-bildung-soziales/ngo-npo-hilfswerke/?page=2&jobid=9900463', '274 NGO / NPO / Hilfswerke Jobs - jobs.ch', 1, 0, 13246383357859715, 0), (1479, 'https://www.jobs.ch/de/stellenangebote/verwaltung-bildung-soziales/ngo-npo-hilfswerke/?page=2&jobid=9885397', '274 NGO / NPO / Hilfswerke Jobs - jobs.ch', 1, 0, 13246383390384564, 0), (1480, 'https://www.jobs.ch/de/stellenangebote/verwaltung-bildung-soziales/ngo-npo-hilfswerke/?page=3', '274 NGO / NPO / Hilfswerke Jobs - jobs.ch', 1, 0, 13246383494159050, 0), (1481, 'https://www.jobs.ch/de/stellenangebote/verwaltung-bildung-soziales/ngo-npo-hilfswerke/?page=3&jobid=9880207', '274 NGO / NPO / Hilfswerke Jobs - jobs.ch', 2, 0, 13246383734626601, 0), (1485, 'https://www.jobs.ch/de/firmen/64530-stiftung-arbeitsgestaltung/', 'Stiftung Arbeitsgestaltung - 4 Stellenangebote auf jobs.ch', 1, 0, 13246383597762940, 0), (1486, 'https://www.google.com/search?q=Stiftung+Arbeitsgestaltung+sag&oq=Stiftung+Arbeitsgestaltung+sag&aqs=chrome..69i57.2621j0j4&sourceid=chrome&ie=UTF-8', 'Stiftung Arbeitsgestaltung sag - Google Suche', 3, 0, 13246383613849167, 0), (1487, 'https://www.stiftung-sag.ch/de/willkommen/', 'Stiftung SAG – Für Menschen und deren Platz in der Arbeitswelt.', 1, 0, 13246383617507470, 0), (1488, 'https://www.stiftung-sag.ch/de/stellen/', 'Stellen - Stiftung SAG', 2, 1, 13246383985641964, 0), (1489, 'https://sag.abacuscity.ch/de/jobdetail?jobportal_id=1&jobportal_jobid=11410', 'Fachkraft Integration für Flüchtlinge und vorläufig Aufgenommene', 1, 0, 13246383634191340, 0), (1490, 'https://sag.abacuscity.ch/de/job_1_11410/Fachkraft-Integration-f%C3%BCr-Fl%C3%BCchtlinge-und-vorl%C3%A4ufig-Aufgenommene', 'Fachkraft Integration für Flüchtlinge und vorläufig Aufgenommene', 1, 0, 13246383634191340, 0), (1491, 'https://sag.abacuscity.ch/de/jobdetail?jobportal_id=1&jobportal_jobid=20603', 'Mitarbeiter/In Intake und Administration (80 100%)', 2, 0, 13246383993636108, 0), (1493, 'https://www.jobs.ch/de/stellenangebote/verwaltung-bildung-soziales/ngo-npo-hilfswerke/?page=3&jobid=000005839043abad0e2d0a9f61b6f6e98fe5356077', '274 NGO / NPO / Hilfswerke Jobs - jobs.ch', 1, 0, 13246383750198196, 0), (1494, 'https://www.jobs.ch/de/stellenangebote/verwaltung-bildung-soziales/ngo-npo-hilfswerke/?page=4', '274 NGO / NPO / Hilfswerke Jobs - jobs.ch', 1, 0, 13246383756873741, 0), (1495, 'https://www.jobs.ch/de/stellenangebote/verwaltung-bildung-soziales/ngo-npo-hilfswerke/?page=5', '274 NGO / NPO / Hilfswerke Jobs - jobs.ch', 1, 0, 13246383770622454, 0), (1496, 'https://www.jobs.ch/de/stellenangebote/verwaltung-bildung-soziales/ngo-npo-hilfswerke/?page=6', '274 NGO / NPO / Hilfswerke Jobs - jobs.ch', 2, 0, 13246384143701551, 0), (1497, 'https://www.jobs.ch/de/stellenangebote/verwaltung-bildung-soziales/ngo-npo-hilfswerke/?page=6&jobid=0000056874ca984a62c9f2c508da71b2d7bbeb134e', '274 NGO / NPO / Hilfswerke Jobs - jobs.ch', 2, 0, 13246384143189783, 0), (1498, 'https://www.jobs.ch/de/stellenangebote/verwaltung-bildung-soziales/ngo-npo-hilfswerke/?page=6&jobid=000010196588f2442dc42faeadf85c9a4b53860a28', '274 NGO / NPO / Hilfswerke Jobs - jobs.ch', 2, 0, 13246384142588361, 0), (1499, 'https://www.jobs.ch/de/stellenangebote/verwaltung-bildung-soziales/ngo-npo-hilfswerke/?page=7', '272 NGO / NPO / Hilfswerke Jobs - jobs.ch', 2, 0, 13246384141992569, 0), (1500, 'https://www.jobs.ch/de/stellenangebote/verwaltung-bildung-soziales/ngo-npo-hilfswerke/?page=7&jobid=0000056874d178b21be0d0584a5469fbf21305ec64', '272 NGO / NPO / Hilfswerke Jobs - jobs.ch', 3, 0, 13246384141440475, 0), (1501, 'https://www.jobs.ch/de/firmen/3649-aarreha-schinznach/', 'aarReha Schinznach - 25 Stellenangebote auf jobs.ch', 1, 0, 13246383944042741, 0), (1504, 'https://www.aarreha.ch/jobs', 'Arbeiten in der aarReha | aarReha Schinznach', 1, 0, 13246384005927567, 0), (1506, 'https://aarreha-bewerber.talent-soft.com/accueil.aspx?LCID=1031', 'AARREHA - Stellenportal', 1, 0, 13246384032067881, 0), (1508, 'https://www.jobs.ch/de/stellenangebote/verwaltung-bildung-soziales/ngo-npo-hilfswerke/?page=7&jobid=0000062204dcf307f0ca02c3c152cbd566a1c95ea2', '272 NGO / NPO / Hilfswerke Jobs - jobs.ch', 2, 0, 13246384140860379, 0), (1509, 'https://www.jobs.ch/de/stellenangebote/verwaltung-bildung-soziales/ngo-npo-hilfswerke/?page=7&jobid=00003057390aea09c93c0f958958259ac9a7883eaa', '272 NGO / NPO / Hilfswerke Jobs - jobs.ch', 2, 0, 13246384139864274, 0), (1510, 'https://www.jobs.ch/de/stellenangebote/verwaltung-bildung-soziales/ngo-npo-hilfswerke/?page=8', '272 NGO / NPO / Hilfswerke Jobs - jobs.ch', 1, 0, 13246384125916779, 0), (1511, 'https://www.google.com/search?q=Stellen+ngos+schweiz+teilzeit&oq=stellen+ngo&aqs=chrome.0.69i59j69i57j69i60l3.2741j0j4&sourceid=chrome&ie=UTF-8', 'Stellen ngos schweiz teilzeit - Google Suche', 3, 0, 13246384285715235, 0), (1512, 'https://jobwinner.ch/de/jobs/?category-ids%5B0%5D=241', 'NGO / NPO / Hilfswerke-Jobs - jobwinner.ch', 2, 0, 13246384282820638, 0), (1513, 'https://jobwinner.ch/de/jobs/?category-ids%5B0%5D=241&seed=19617', 'NGO / NPO / Hilfswerke-Jobs - jobwinner.ch', 2, 0, 13246384280298306, 0), (1514, 'https://jobwinner.ch/de/jobs/?seed=19617&page=2&category-ids%5B%5D=241', 'NGO / NPO / Hilfswerke-Jobs - jobwinner.ch', 2, 0, 13246384278786627, 0), (1515, 'https://jobwinner.ch/de/jobs/?seed=19617&page=2&category-ids%5B%5D=241#top', 'NGO / NPO / Hilfswerke-Jobs - jobwinner.ch', 1, 0, 13246384249315621, 0), (1518, 'http://www.kampajobs.ch/', 'Kampajobs |\\xa0Die Online-Jobbörse für Non Profit-Organisationen', 1, 0, 13246384363298479, 0), (1519, 'https://www.kampajobs.ch/', 'Kampajobs |\\xa0Die Online-Jobbörse für Non Profit-Organisationen', 1, 0, 13246384363298479, 0), (1520, 'https://www.kampajobs.ch/jobs/administration', 'Jobs für Administration | Kampajobs', 2, 0, 13246559626787444, 0), (1521, 'https://www.kampajobs.ch/jobs', 'Jobs | Kampajobs', 1, 0, 13246384440316763, 0), (1522, 'https://www.kampajobs.ch/jobs?page=1', 'Jobs | Kampajobs', 1, 0, 13246384469095610, 0), (1523, 'https://www.kampajobs.ch/jobs?page=2', 'Jobs | Kampajobs', 1, 0, 13246384496424504, 0), (1524, 'https://www.kampajobs.ch/job/praktikum-als-campaignerin-fuer-die-kampagne-kennen-sie-ger-trud-kurz', 'Praktikum als Campaigner*in für die Kampagne «Kennen Sie Gertrud Kurz?» - Home Office | Kampajobs', 1, 0, 13246384534611051, 0), (1525, 'https://www.kampajobs.ch/jobs?page=3', 'Jobs | Kampajobs', 1, 0, 13246470049055768, 0), (1552, 'https://www.linkedin.com/jobs/view/2178124740?lgTemp=jobs_jymbii_digest&eBP=NotAvailableFromMidTier&lgCta=eml-jymbii-organic-job-card&recommendedFlavor=HIDDEN_GEM&refId=5F7jvP2s3uG4aC6413pveA%3D%3D&midToken=AQEClp48-g4zIw&midSig=3K1r_IWCqmoVs1&trk=eml-jobs_jymbii_digest-jymbii-17-job_card_new_flow&trkEmail=eml-jobs_jymbii_digest-jymbii-17-job_card_new_flow-null-7pi9n1~kfwszk3x~i5-null-jobs~view&lipi=urn:li:page:email_jobs_jymbii_digest%3B%2FW3iBVcHTv6kEQDCWSnhgg%3D%3D', 'Sachbearbeiter/in Erwachsenenschutz | Kanton Zürich | LinkedIn', 1, 0, 13246471511942394, 0), (1553, 'https://www.linkedin.com/jobs/view/2178124740/?lgTemp=jobs_jymbii_digest&eBP=NotAvailableFromMidTier&lgCta=eml-jymbii-organic-job-card&recommendedFlavor=HIDDEN_GEM&refId=5F7jvP2s3uG4aC6413pveA%3D%3D&midToken=AQEClp48-g4zIw&midSig=3K1r_IWCqmoVs1&trk=eml-jobs_jymbii_digest-jymbii-17-job_card_new_flow&trkEmail=eml-jobs_jymbii_digest-jymbii-17-job_card_new_flow-null-7pi9n1~kfwszk3x~i5-null-jobs~view&lipi=urn:li:page:email_jobs_jymbii_digest%3B%2FW3iBVcHTv6kEQDCWSnhgg%3D%3D', 'Sachbearbeiter/in Erwachsenenschutz | Kanton Zürich | LinkedIn', 1, 0, 13246471546173407, 0), (1554, 'https://www.linkedin.com/jobs/view/2178124740/?lgTemp=jobs_jymbii_digest&eBP=NotAvailableFromMidTier&lgCta=eml-jymbii-organic-job-card&recommendedFlavor=HIDDEN_GEM&refId=5F7jvP2s3uG4aC6413pveA%3D%3D&midToken=AQEClp48-g4zIw&midSig=3K1r_IWCqmoVs1&trk=eml-jobs_jymbii_digest-jymbii-17-job_card_new_flow&trkEmail=eml-jobs_jymbii_digest-jymbii-17-job_card_new_flow-null-7pi9n1~kfwszk3x~i5-null-jobs~view', 'Sachbearbeiter/in Erwachsenenschutz | Kanton Zürich | LinkedIn', 1, 0, 13246471546849344, 0), (1562, 'https://www.linkedin.com/jobs/?notification=urn%3Ali%3Afsd_notificationCard%3A(JYMBII_V2%2Curn%3Ali%3Amember%3A466105933)&showJobAlertsModal=false', 'Jobs | LinkedIn', 1, 0, 13246559665378107, 0), (1569, 'https://www.jobs.ch/de/firmen/11860-syna-die-gewerkschaft/', 'Syna - die Gewerkschaft - 14 Stellenangebote auf jobs.ch', 1, 0, 13246471896715665, 0), (1570, 'https://www.jobs.ch/de/stellenangebote/detail/9938623/?source=company_detail', 'Administrations- und Aussendienst MitarbeiterIn 100% - Stellenangebot bei Syna - die Gewerkschaft - jobs.ch', 1, 0, 13246559646715130, 0), (1575, 'https://syna.ch/darum-syna/arbeit', 'Arbeit', 1, 0, 13246471961960500, 0), (1692, 'https://www.kampajobs.ch/job/sachbearbeiter-finanzen-und-administration-80', 'Sachbearbeiter/in Finanzen und Administration 80% - Zürich | Kampajobs', 2, 0, 13250258562618436, 0), (1733, 'https://www.google.com/url?sa=i&url=https%3A%2F%2Fwww.der-mensch.net%2Fknochenlehre%2Fsesambeine-ossa-sesamoidea%2F&psig=AOvVaw0p6xBYggNArFAaVNZRmU4x&ust=1602173750811000&source=images&cd=vfe&ved=0CAMQjB1qFwoTCPjcm_2Ao-wCFQAAAAAdAAAAABAK', 'Weiterleitungshinweis', 3, 0, 13246647767962095, 0), (1791, 'https://www.google.ch/url?sa=i&url=https%3A%2F%2Fonline-heilpraktikerschule-nrw.de%2Fwp-content%2Fuploads%2Fskripte%2FBasisausbildung-Bewegungsapparat-2018.pdf&psig=AOvVaw2VyMSzZKyjr3PAJ5GZfGWw&ust=1602263456754000&source=images&cd=vfe&ved=0CAIQjRxqFwoTCODl_9K-pewCFQAAAAAdAAAAABAF', 'Basisausbildung-Bewegungsapparat-2018.pdf', 1, 0, 13246650802491634, 0), (1792, 'https://online-heilpraktikerschule-nrw.de/wp-content/uploads/skripte/Basisausbildung-Bewegungsapparat-2018.pdf', 'Basisausbildung-Bewegungsapparat-2018.pdf', 1, 0, 13246650802491634, 0), (1832, 'https://www.adobe.com/go/edit_ft_rdr_fc_19_0_0_1_de?rdrctl=0&DTProd=Reader&DTServLvl=SignedOut', 'Preise | PDF-Datei bearbeiten', 1, 0, 13249566670475679, 0), (1833, 'https://acrobat.adobe.com/de/de/landing/edit-pricing.html?trackingid=Y69SGS2F&ttid=edtpdf1&mv=in-product&mv2=reader&rdrctl=0&DTProd=Reader&DTServLvl=SignedOut', 'Preise | PDF-Datei bearbeiten', 1, 0, 13249566670475679, 0), (1852, 'https://picpick.app/', 'PicPick - Alles-in-Einem Zeichenwerkzeug: Bildschirmfotos, Bildbearbeitung, Farbwähler, Pixel-Lineal und mehr | PicPick - Alles-in-Einem Zeichenwerkzeug: Bildschirmfotos, Bildbearbeitung, Farbwähler, Pixel-Lineal und mehr', 1, 0, 13250772595412491, 0), (1853, 'https://picpick.app/de/', 'PicPick - Alles-in-Einem Zeichenwerkzeug: Bildschirmfotos, Bildbearbeitung, Farbwähler, Pixel-Lineal und mehr | PicPick - Alles-in-Einem Zeichenwerkzeug: Bildschirmfotos, Bildbearbeitung, Farbwähler, Pixel-Lineal und mehr', 1, 0, 13250772596254436, 0), (1854, 'https://picpick.app/de/download', 'PicPick - Alles-in-Einem Zeichenwerkzeug: Bildschirmfotos, Bildbearbeitung, Farbwähler, Pixel-Lineal und mehr | PicPick - Alles-in-Einem Zeichenwerkzeug: Bildschirmfotos, Bildbearbeitung, Farbwähler, Pixel-Lineal und mehr', 1, 0, 13250772607815620, 0), (1855, 'https://picpick.app/de/download/free', 'PicPick - Alles-in-Einem Zeichenwerkzeug: Bildschirmfotos, Bildbearbeitung, Farbwähler, Pixel-Lineal und mehr | PicPick - Alles-in-Einem Zeichenwerkzeug: Bildschirmfotos, Bildbearbeitung, Farbwähler, Pixel-Lineal und mehr', 1, 0, 13250772612313901, 0)]\n13246470128346209\n"
     ]
    }
   ],
   "source": []
  },
  {
   "cell_type": "code",
   "execution_count": 122,
   "metadata": {},
   "outputs": [],
   "source": [
    "def select_visits(conn):\n",
    "    \"\"\"\n",
    "    Query tasks by priority\n",
    "    :param conn: the Connection object\n",
    "    :param priority:\n",
    "    :return:\n",
    "    \"\"\"\n",
    "    cur = conn.cursor()\n",
    "    cur.execute(\"SELECT visit_time \\\n",
    "        FROM visits \") \n",
    "    rows = cur.fetchall()\n",
    "    print(rows)"
   ]
  },
  {
   "cell_type": "code",
   "execution_count": 13,
   "metadata": {},
   "outputs": [
    {
     "output_type": "execute_result",
     "data": {
      "text/plain": [
       "datetime.datetime(2020, 10, 5, 15, 22, 57, 435172)"
      ]
     },
     "metadata": {},
     "execution_count": 13
    }
   ],
   "source": [
    "from datetime import datetime, timedelta\n",
    "\n",
    "\n",
    "def date_from_webkit(webkit_timestamp):\n",
    "    epoch_start = datetime(1601, 1, 1)\n",
    "    delta = timedelta(microseconds=int(webkit_timestamp))\n",
    "    return epoch_start + delta\n",
    "\n",
    "\n",
    "def date_to_webkit(date_string):\n",
    "    epoch_start = datetime(1601, 1, 1)\n",
    "    date_ = datetime.strptime(date_string, '%Y-%m-%d %H:%M:%S')\n",
    "    diff = date_ - epoch_start\n",
    "    seconds_in_day = 60 * 60 * 24\n",
    "    return '{:<017d}'.format(\n",
    "        diff.days * seconds_in_day + diff.seconds + diff.microseconds)\n",
    "\n",
    "\n",
    "# Webkit to date\n",
    "date_from_webkit('13246384977435172')  # 2016-08-24 10:35:47\n",
    "\n",
    "# Date string to Webkit timestamp\n",
    "#date_to_webkit('2016-08-24 10:35:47')  # 13116508547000000"
   ]
  },
  {
   "cell_type": "code",
   "execution_count": 21,
   "metadata": {
    "tags": []
   },
   "outputs": [],
   "source": [
    "from datetime import datetime\n",
    "import csv\n",
    "\n",
    "\n",
    "with conn:\n",
    "    #print(\"1. Query task by priority:\")\n",
    "    result = select_by_query(conn, query)\n",
    "    #print(result)\n",
    "\n",
    "    with open('history_jasmine.csv', 'w', newline='') as csvfile:\n",
    "        jwriter = csv.writer(csvfile, delimiter=';', quotechar='|', quoting=csv.QUOTE_MINIMAL)\n",
    "        \n",
    "\n",
    "        #for id,url,title,_,_,timestamp,_ in result[:20]:\n",
    "        for id,url,title,_,_,timestamp,_ in result:\n",
    "            jwriter.writerow([title, url, date_from_webkit(timestamp)])\n",
    "            #print(url, title, date_from_webkit(timestamp))\n",
    "        #time = datetime.fromtimestamp(timestamp)\n",
    "        #print(time)\n",
    "        #print(url, title, time)\n",
    "        #break\n",
    "    #print(\"2. Query all urls\")\n",
    "    #select_all_urls(conn)\n"
   ]
  },
  {
   "cell_type": "code",
   "execution_count": null,
   "metadata": {},
   "outputs": [],
   "source": [
    "\n"
   ]
  }
 ]
}
