{
 "metadata": {
  "language_info": {
   "codemirror_mode": {
    "name": "ipython",
    "version": 3
   },
   "file_extension": ".py",
   "mimetype": "text/x-python",
   "name": "python",
   "nbconvert_exporter": "python",
   "pygments_lexer": "ipython3",
   "version": "3.9.0-final"
  },
  "orig_nbformat": 2,
  "kernelspec": {
   "name": "python3",
   "display_name": "Python 3.9.0 64-bit ('py39Udemy')",
   "metadata": {
    "interpreter": {
     "hash": "5badd235d461dc3f2e0c7d1faddb04cc42f4a1b9f3776bc67b40a228dd1fef9a"
    }
   }
  }
 },
 "nbformat": 4,
 "nbformat_minor": 2,
 "cells": [
  {
   "cell_type": "code",
   "execution_count": 23,
   "metadata": {},
   "outputs": [
    {
     "output_type": "stream",
     "name": "stdout",
     "text": [
      "[{'address': {'city': 'Gwenborough',\n              'geo': {'lat': '-37.3159', 'lng': '81.1496'},\n              'street': 'Kulas Light',\n              'suite': 'Apt. 556',\n              'zipcode': '92998-3874'},\n  'company': {'bs': 'harness real-time e-markets',\n              'catchPhrase': 'Multi-layered client-server neural-net',\n              'name': 'Romaguera-Crona'},\n  'email': 'Sincere@april.biz',\n  'id': 1,\n  'name': 'Leanne Graham Mario',\n  'phone': '1-770-736-8031 x56442',\n  'username': 'Bret',\n  'website': 'hildegard.org'}]\n"
     ]
    }
   ],
   "source": [
    "# Standard Library\n",
    "from urllib.parse import urljoin\n",
    "import pprint\n",
    "# 3rd party packages\n",
    "import requests\n",
    "\n",
    "DEVEL = True\n",
    "\n",
    "if not DEVEL:\n",
    "    BASE_URL = 'http://jsonplaceholder.typicode.com'\n",
    "else:\n",
    "    BASE_URL = 'https://9fdde3fd-1e20-4d46-9049-6d99c04529d7.mock.pstmn.io'\n",
    "\n",
    "USERS_URL = urljoin(BASE_URL, 'users')\n",
    "USERS_URL_SINGLE= urljoin(BASE_URL, 'users?id=1')\n",
    "POSTS_URL = urljoin(BASE_URL, 'posts')\n",
    "\n",
    "def get_response(url):\n",
    "    response = requests.get(url)\n",
    "    if response.ok:\n",
    "        return response\n",
    "    else:\n",
    "        return None\n",
    "\n",
    "response = get_response(USERS_URL_SINGLE)\n",
    "pprint.pprint(response.json())\n",
    "#response\n",
    "#response.json()"
   ]
  },
  {
   "cell_type": "code",
   "execution_count": 4,
   "metadata": {},
   "outputs": [
    {
     "output_type": "execute_result",
     "data": {
      "text/plain": [
       "['/Users/mconrad/github/pyCodeSnipHints/snips',\n",
       " '/Users/mconrad/.vscode/extensions/ms-toolsai.jupyter-2020.11.358541065/pythonFiles',\n",
       " '/Users/mconrad/.vscode/extensions/ms-toolsai.jupyter-2020.11.358541065/pythonFiles/lib/python',\n",
       " '/usr/local/Cellar/python@3.9/3.9.0_1/Frameworks/Python.framework/Versions/3.9/lib/python39.zip',\n",
       " '/usr/local/Cellar/python@3.9/3.9.0_1/Frameworks/Python.framework/Versions/3.9/lib/python3.9',\n",
       " '/usr/local/Cellar/python@3.9/3.9.0_1/Frameworks/Python.framework/Versions/3.9/lib/python3.9/lib-dynload',\n",
       " '',\n",
       " '/Users/mconrad/Library/Python/3.9/lib/python/site-packages',\n",
       " '/usr/local/lib/python3.9/site-packages',\n",
       " '/Users/mconrad/Library/Python/3.9/lib/python/site-packages/IPython/extensions',\n",
       " '/Users/mconrad/.ipython']"
      ]
     },
     "metadata": {},
     "execution_count": 4
    }
   ],
   "source": [
    "sys.executable\n",
    "sys.path"
   ]
  },
  {
   "cell_type": "code",
   "execution_count": null,
   "metadata": {},
   "outputs": [],
   "source": []
  }
 ]
}
